{
  "nbformat": 4,
  "nbformat_minor": 0,
  "metadata": {
    "colab": {
      "provenance": [],
      "gpuType": "T4"
    },
    "kernelspec": {
      "name": "python3",
      "display_name": "Python 3"
    },
    "language_info": {
      "name": "python"
    },
    "gpuClass": "standard"
  },
  "cells": [
    {
      "cell_type": "code",
      "execution_count": null,
      "metadata": {
        "id": "Q1NuT6YL4nOi",
        "colab": {
          "base_uri": "https://localhost:8080/",
          "height": 373
        },
        "outputId": "7a58ec53-4d90-40c1-8c31-7b3e0b7a16ec"
      },
      "outputs": [
        {
          "output_type": "error",
          "ename": "ModuleNotFoundError",
          "evalue": "ignored",
          "traceback": [
            "\u001b[0;31m---------------------------------------------------------------------------\u001b[0m",
            "\u001b[0;31mModuleNotFoundError\u001b[0m                       Traceback (most recent call last)",
            "\u001b[0;32m<ipython-input-1-ea7cb03fc70a>\u001b[0m in \u001b[0;36m<cell line: 2>\u001b[0;34m()\u001b[0m\n\u001b[1;32m      1\u001b[0m \u001b[0;34m\"\"\"https://huggingface.co/deepset/roberta-base-squad2\"\"\"\u001b[0m\u001b[0;34m\u001b[0m\u001b[0;34m\u001b[0m\u001b[0m\n\u001b[0;32m----> 2\u001b[0;31m \u001b[0;32mfrom\u001b[0m \u001b[0mtransformers\u001b[0m \u001b[0;32mimport\u001b[0m \u001b[0mAutoModelForQuestionAnswering\u001b[0m\u001b[0;34m,\u001b[0m \u001b[0mAutoTokenizer\u001b[0m\u001b[0;34m,\u001b[0m \u001b[0mpipeline\u001b[0m\u001b[0;34m\u001b[0m\u001b[0;34m\u001b[0m\u001b[0m\n\u001b[0m\u001b[1;32m      3\u001b[0m \u001b[0;34m\u001b[0m\u001b[0m\n\u001b[1;32m      4\u001b[0m \u001b[0mmodel_name\u001b[0m \u001b[0;34m=\u001b[0m \u001b[0;34m\"deepset/roberta-base-squad2\"\u001b[0m\u001b[0;34m\u001b[0m\u001b[0;34m\u001b[0m\u001b[0m\n\u001b[1;32m      5\u001b[0m \u001b[0;34m\u001b[0m\u001b[0m\n",
            "\u001b[0;31mModuleNotFoundError\u001b[0m: No module named 'transformers'",
            "",
            "\u001b[0;31m---------------------------------------------------------------------------\u001b[0;32m\nNOTE: If your import is failing due to a missing package, you can\nmanually install dependencies using either !pip or !apt.\n\nTo view examples of installing some common dependencies, click the\n\"Open Examples\" button below.\n\u001b[0;31m---------------------------------------------------------------------------\u001b[0m\n"
          ],
          "errorDetails": {
            "actions": [
              {
                "action": "open_url",
                "actionText": "Open Examples",
                "url": "/notebooks/snippets/importing_libraries.ipynb"
              }
            ]
          }
        }
      ],
      "source": [
        "   \"\"\"https://huggingface.co/deepset/roberta-base-squad2\"\"\"\n",
        "from transformers import AutoModelForQuestionAnswering, AutoTokenizer, pipeline\n",
        "\n",
        "model_name = \"deepset/roberta-base-squad2\"\n",
        "\n",
        "# a) Get predictions\n",
        "nlp = pipeline('question-answering', model=model_name, tokenizer=model_name)\n",
        "QA_input = {\n",
        "    'question': 'Why is model conversion important?',\n",
        "    'context': 'The option to convert models between FARM and transformers gives freedom to the user and let people easily switch between frameworks.'\n",
        "}\n",
        "res = nlp(QA_input)\n",
        "\n",
        "# b) Load model & tokenizer\n",
        "model = AutoModelForQuestionAnswering.from_pretrained(model_name)\n",
        "tokenizer = AutoTokenizer.from_pretrained(model_name)"
      ]
    },
    {
      "cell_type": "code",
      "source": [
        "res # score == F1 Score: it's computed on the individual words in the p"
      ],
      "metadata": {
        "id": "nVVEIIimI95D"
      },
      "execution_count": null,
      "outputs": []
    },
    {
      "cell_type": "code",
      "source": [
        "import re\n",
        "import torch\n",
        "from transformers import AutoTokenizer, AutoModelForQuestionAnswering, pipeline\n",
        "\n",
        "\n",
        "# Load the PDF file and extract the text from it\n",
        "from pypdf import PdfReader\n",
        "reader = PdfReader('stock_market2.pdf')\n",
        "pages_text = []\n",
        "for page_num, page in enumerate(reader.pages):\n",
        "    parts = []\n",
        "    def visitor_body(text, cm, tm, font_dict, font_size):\n",
        "        parts.append(text)\n",
        "    page.extract_text(visitor_text=visitor_body)\n",
        "    text_body = \"\".join(parts)\n",
        "    # remove page numbers\n",
        "    text_body = re.sub(r'Page \\d+ of \\d+', '', text_body)\n",
        "    # remove first line (if any) on subsequent pages\n",
        "    if page_num > 0:\n",
        "        text_body = text_body.split('\\n', 1)[-1]\n",
        "    page_text = f\"Page {page_num+1}:\\n{text_body}\\n\"\n",
        "    pages_text.append(page_text)\n",
        "text = '\\n'.join(pages_text)\n",
        "# Join the text from all pages to create a single string\n",
        "context = \" \".join(pages_text)\n",
        "\n",
        "\n",
        "# Fine-tune the model on the extracted text for question answering\n",
        "model_name = \"deepset/roberta-base-squad2\"\n",
        "tokenizer = AutoTokenizer.from_pretrained(model_name)\n",
        "model = AutoModelForQuestionAnswering.from_pretrained(model_name)\n",
        "\n",
        "nlp = pipeline('question-answering', model=model, tokenizer=tokenizer)\n",
        "nlp.context = text\n",
        "\n",
        "# Example question\n",
        "question = \"What is SENSEX?\"\n",
        "\n",
        "# Get the answer to the question\n",
        "result = nlp(question=question, context=context)\n",
        "\n",
        "# Print the answer\n",
        "print(result)\n"
      ],
      "metadata": {
        "id": "WtKvSOZGQ9MB"
      },
      "execution_count": null,
      "outputs": []
    },
    {
      "cell_type": "code",
      "source": [
        "pages_text"
      ],
      "metadata": {
        "id": "E6PLvCVqV-cI"
      },
      "execution_count": null,
      "outputs": []
    },
    {
      "cell_type": "code",
      "source": [
        "# question = \"What is the stock market?\"\n",
        "# text = \"The stock market is a collection of markets where stocks are traded, among other financial products.\"\n",
        "# answer = extract_answer(question, text)\n",
        "# print(answer)\n"
      ],
      "metadata": {
        "id": "0zelL0mB5ieZ"
      },
      "execution_count": null,
      "outputs": []
    },
    {
      "cell_type": "code",
      "source": [
        "from pypdf import PdfReader\n",
        "import re\n",
        "from transformers import pipeline\n",
        "\n",
        "\n",
        "\n",
        "reader = PdfReader('stock_market2.pdf')\n",
        "\n",
        "pages_text = []\n",
        "\n",
        "for page_num, page in enumerate(reader.pages):\n",
        "    parts = []\n",
        "    \n",
        "    def visitor_body(text, cm, tm, font_dict, font_size):\n",
        "        parts.append(text)\n",
        "\n",
        "    page.extract_text(visitor_text=visitor_body)\n",
        "    text_body = \"\".join(parts)\n",
        "    # remove page numbers\n",
        "    text_body = re.sub(r'Page \\d+ of \\d+', '', text_body)\n",
        "    # remove first line (if any) on subsequent pages\n",
        "    if page_num > 0:\n",
        "        text_body = text_body.split('\\n', 1)[-1]\n",
        "\n",
        "    page_text = f\"Page {page_num+1}:\\n{text_body}\\n\"\n",
        "    print(page_text)\n",
        "    pages_text.append(page_text)\n",
        "\n",
        "\n",
        "\n",
        "# qa_model = pipeline('question-answering', model='bert-large-uncased-whole-word-masking-finetuned-squad')\n",
        "# document = pages_text\n",
        "# question = 'What are future contracts?'\n",
        "# answer = qa_model({'context': document, 'question': question})\n",
        "\n",
        "# print(answer['answer'])"
      ],
      "metadata": {
        "id": "0t6lVB295WIV"
      },
      "execution_count": null,
      "outputs": []
    },
    {
      "cell_type": "code",
      "source": [
        "pages_text"
      ],
      "metadata": {
        "id": "oSzARePpW9Y2"
      },
      "execution_count": null,
      "outputs": []
    },
    {
      "cell_type": "code",
      "source": [
        "\n"
      ],
      "metadata": {
        "id": "J12eUyH0Bgom"
      },
      "execution_count": null,
      "outputs": []
    },
    {
      "cell_type": "code",
      "source": [
        "# ! pip install torch\n",
        "# ! pip install transformers\n",
        "# ! pip install pypdf\n",
        "# ! pip install svgwrite\n",
        "# ! pip install transformers\n",
        "!pip install allennlp==2.8.0\n",
        "!pip install transformers==4.6.1\n"
      ],
      "metadata": {
        "id": "siq-C3yD4t9W"
      },
      "execution_count": null,
      "outputs": []
    },
    {
      "cell_type": "code",
      "source": [
        "! git clone https://github.com/allenai/allennlp-bert-qa-wrapper.git"
      ],
      "metadata": {
        "id": "pon1JBetJG8Y"
      },
      "execution_count": null,
      "outputs": []
    },
    {
      "cell_type": "code",
      "source": [
        "# ! pip install -r requirements.txt\n",
        "!pip uninstall allennlp\n",
        "!pip install allennlp\n"
      ],
      "metadata": {
        "id": "7u7avO31TB6E"
      },
      "execution_count": null,
      "outputs": []
    },
    {
      "cell_type": "code",
      "source": [
        "import json\n",
        "import torch\n",
        "from allennlp.data.tokenizers import WordTokenizer\n",
        "from allennlp.data.fields import TextField\n",
        "from allennlp.data import Instance\n",
        "from allennlp.data.dataset_readers import DatasetReader\n",
        "from allennlp.data.token_indexers import PretrainedBertIndexer\n",
        "from allennlp.data.tokenizers.word_splitter import BertBasicWordSplitter\n",
        "from allennlp.modules.token_embedders import PretrainedBertEmbedder\n",
        "from allennlp.models import Model\n",
        "from allennlp.training.metrics import CategoricalAccuracy\n",
        "from allennlp.data.iterators import BasicIterator\n",
        "from allennlp.training.trainer import Trainer\n",
        "from allennlp.predictors import Predictor\n",
        "from allennlp.nn.util import get_text_field_mask\n",
        "\n",
        "from pypdf import PdfReader\n",
        "\n",
        "# Define dataset reader\n",
        "class QADatasetReader(DatasetReader):\n",
        "    def __init__(self, tokenizer, token_indexers, lazy=False):\n",
        "        super().__init__(lazy)\n",
        "        self.tokenizer = tokenizer\n",
        "        self.token_indexers = token_indexers\n",
        "\n",
        "    def text_to_instance(self, question, answer):\n",
        "        question_tokens = self.tokenizer.tokenize(question)\n",
        "        answer_tokens = self.tokenizer.tokenize(answer)\n",
        "        fields = {\n",
        "            \"question\": TextField(question_tokens, self.token_indexers),\n",
        "            \"answer\": TextField(answer_tokens, self.token_indexers),\n",
        "        }\n",
        "        return Instance(fields)\n",
        "\n",
        "    def _read(self, file_path):\n",
        "        with open(file_path, 'r') as f:\n",
        "            data = json.load(f)\n",
        "            for item in data:\n",
        "                question = item['question']\n",
        "                answer = item['answer']\n",
        "                yield self.text_to_instance(question, answer)\n",
        "\n",
        "# Define model\n",
        "class QAModel(Model):\n",
        "    def __init__(self, embedder, encoder, dropout):\n",
        "        super().__init__(vocab=None)\n",
        "        self.embedder = embedder\n",
        "        self.encoder = encoder\n",
        "        self.dropout = torch.nn.Dropout(p=dropout)\n",
        "        self.linear_layer = torch.nn.Linear(in_features=self.encoder.get_output_dim(),\n",
        "                                             out_features=2)\n",
        "\n",
        "    def forward(self, question, answer):\n",
        "        mask_question = get_text_field_mask(question)\n",
        "        mask_answer = get_text_field_mask(answer)\n",
        "\n",
        "        embedded_question = self.embedder(question)\n",
        "        embedded_answer = self.embedder(answer)\n",
        "\n",
        "        encoded_question = self.encoder(embedded_question, mask_question)\n",
        "        encoded_answer = self.encoder(embedded_answer, mask_answer)\n",
        "\n",
        "        concatenated = torch.cat((encoded_question, encoded_answer), dim=1)\n",
        "        dropped = self.dropout(concatenated)\n",
        "\n",
        "        logits = self.linear_layer(dropped)\n",
        "        probs = torch.nn.functional.softmax(logits, dim=-1)\n",
        "\n",
        "        return {\"probs\": probs}\n",
        "\n",
        "# Fine-tune model\n",
        "tokenizer = WordTokenizer(BertBasicWordSplitter())\n",
        "token_indexer = PretrainedBertIndexer(pretrained_model=\"bert-base-uncased\")\n",
        "dataset_reader = QADatasetReader(tokenizer=tokenizer, token_indexers={\"tokens\": token_indexer})\n",
        "train_data = dataset_reader.read(\"path/to/train/data.json\")\n",
        "dev_data = dataset_reader.read(\"path/to/dev/data.json\")\n",
        "\n",
        "bert_embedder = PretrainedBertEmbedder(pretrained_model=\"bert-base-uncased\")\n",
        "bert_encoder = BertEncoder(input_dim=bert_embedder.get_output_dim())\n",
        "model = QAModel(embedder=bert_embedder, encoder=bert_encoder, dropout=0.1)\n",
        "\n",
        "iterator = BasicIterator(batch_size=32)\n",
        "iterator.index_with(vocab)\n",
        "\n",
        "optimizer = torch.optim.Adam(model.parameters(), lr=1e-5)\n",
        "trainer = Trainer(\n",
        "    model=model,\n",
        "    optimizer=optimizer,\n",
        "    iterator=iterator,\n",
        "    train_dataset=train_data,\n",
        "    validation_dataset=dev_data,\n",
        "    patience=5,\n",
        "    num_epochs=20\n",
        ")\n",
        "trainer.train()\n",
        "\n",
        "# Use model for prediction\n",
        "class QAPredictor(Predictor):\n",
        "    def _json_to_instance(self, json_dict):\n",
        "        question = json_dict[\"question\"]\n",
        "        answer = json_dict[\"answer\"]\n",
        "        return self._dataset_reader.text_to_instance(question, answer)\n",
        "\n",
        "predictor = QAPredictor(model=model, dataset_reader=dataset_reader)\n",
        "\n",
        "\n",
        "reader = PdfReader('stock_market2.pdf')\n",
        "\n",
        "all_text =\"\"\n",
        "for page_num, page in enumerate(reader.pages):\n",
        "    parts = []\n",
        "    \n",
        "    def visitor_body(text, cm, tm, font_dict, font_size):\n",
        "        y = tm[5]\n",
        "        if y > 50 and y < 720:\n",
        "            parts.append(text)\n",
        "\n",
        "    page.extract_text(visitor_text=visitor_body)\n",
        "    text_body = \"\".join(parts)\n",
        "    all_text += text_body\n",
        "\n",
        "    print(f\"Page {page_num+1}:\\n{text_body}\\n\")\n",
        "\n",
        "\n",
        "# Use model to extract answers from PDF\n",
        "for item in data:\n",
        "    question = item[\"question\"]\n",
        "    prediction = predictor.predict_json({\"question\": question, \"answer\": all_text})\n",
        "    predicted_answer = prediction[\"probs\"].argmax()\n",
        "    print(f\"Question: {question}\\nAnswer: {predicted_answer}\\n\")\n",
        "\n"
      ],
      "metadata": {
        "id": "debbkL-jTLV7"
      },
      "execution_count": null,
      "outputs": []
    },
    {
      "cell_type": "code",
      "source": [
        "import json\n",
        "import torch\n",
        "from allennlp.data.tokenizers import PretrainedTransformerTokenizer\n",
        "from allennlp.data.fields import TextField\n",
        "from allennlp.data import Instance\n",
        "\n",
        "# Load pre-trained tokenizer\n",
        "tokenizer = PretrainedTransformerTokenizer(model_name=\"bert-base-cased\")\n",
        "\n",
        "# Tokenize text\n",
        "text = \"Some text to be tokenized.\"\n",
        "tokens = tokenizer.tokenize(text)\n",
        "\n",
        "# Convert tokens to fields\n",
        "text_field = TextField(tokens, token_indexers={\"tokens\": tokenizer})\n",
        "fields = {\"text\": text_field}\n",
        "\n",
        "# Create instance\n",
        "instance = Instance(fields)\n",
        "\n",
        "# Convert instance to tensors\n",
        "vocab = Vocabulary()\n",
        "text_field.index(vocab)\n",
        "tensors = instance.as_tensor_dict()\n"
      ],
      "metadata": {
        "id": "1TOuSkbOb6yB"
      },
      "execution_count": null,
      "outputs": []
    },
    {
      "cell_type": "code",
      "source": [
        "from googletrans import Translator\n",
        "\n",
        "# Read file contents\n",
        "with open('/content/bonalufestival.txt', 'r') as f:\n",
        "    text = f.read()\n",
        "\n",
        "# Translate text to French\n",
        "translator = Translator()\n",
        "translated_text = translator.translate(text, dest='fr').text\n",
        "\n",
        "# Write translated text to new file\n",
        "with open('translated_file.txt', 'w') as f:\n",
        "    f.write(translated_text)\n"
      ],
      "metadata": {
        "id": "AMYc06vmcMoV",
        "colab": {
          "base_uri": "https://localhost:8080/",
          "height": 397
        },
        "outputId": "4def8748-5600-4718-955b-8d2bfdaeea21"
      },
      "execution_count": null,
      "outputs": [
        {
          "output_type": "error",
          "ename": "TypeError",
          "evalue": "ignored",
          "traceback": [
            "\u001b[0;31m---------------------------------------------------------------------------\u001b[0m",
            "\u001b[0;31mTypeError\u001b[0m                                 Traceback (most recent call last)",
            "\u001b[0;32m<ipython-input-2-d3f2f12288f6>\u001b[0m in \u001b[0;36m<cell line: 9>\u001b[0;34m()\u001b[0m\n\u001b[1;32m      7\u001b[0m \u001b[0;31m# Translate text to French\u001b[0m\u001b[0;34m\u001b[0m\u001b[0;34m\u001b[0m\u001b[0m\n\u001b[1;32m      8\u001b[0m \u001b[0mtranslator\u001b[0m \u001b[0;34m=\u001b[0m \u001b[0mTranslator\u001b[0m\u001b[0;34m(\u001b[0m\u001b[0;34m)\u001b[0m\u001b[0;34m\u001b[0m\u001b[0;34m\u001b[0m\u001b[0m\n\u001b[0;32m----> 9\u001b[0;31m \u001b[0mtranslated_text\u001b[0m \u001b[0;34m=\u001b[0m \u001b[0mtranslator\u001b[0m\u001b[0;34m.\u001b[0m\u001b[0mtranslate\u001b[0m\u001b[0;34m(\u001b[0m\u001b[0mtext\u001b[0m\u001b[0;34m,\u001b[0m \u001b[0mdest\u001b[0m\u001b[0;34m=\u001b[0m\u001b[0;34m'fr'\u001b[0m\u001b[0;34m)\u001b[0m\u001b[0;34m.\u001b[0m\u001b[0mtext\u001b[0m\u001b[0;34m\u001b[0m\u001b[0;34m\u001b[0m\u001b[0m\n\u001b[0m\u001b[1;32m     10\u001b[0m \u001b[0;34m\u001b[0m\u001b[0m\n\u001b[1;32m     11\u001b[0m \u001b[0;31m# Write translated text to new file\u001b[0m\u001b[0;34m\u001b[0m\u001b[0;34m\u001b[0m\u001b[0m\n",
            "\u001b[0;32m/usr/local/lib/python3.10/dist-packages/googletrans/client.py\u001b[0m in \u001b[0;36mtranslate\u001b[0;34m(self, text, dest, src)\u001b[0m\n\u001b[1;32m    217\u001b[0m \u001b[0;34m\u001b[0m\u001b[0m\n\u001b[1;32m    218\u001b[0m         \u001b[0mdata\u001b[0m \u001b[0;34m=\u001b[0m \u001b[0mjson\u001b[0m\u001b[0;34m.\u001b[0m\u001b[0mloads\u001b[0m\u001b[0;34m(\u001b[0m\u001b[0mresp\u001b[0m\u001b[0;34m)\u001b[0m\u001b[0;34m\u001b[0m\u001b[0;34m\u001b[0m\u001b[0m\n\u001b[0;32m--> 219\u001b[0;31m         \u001b[0mparsed\u001b[0m \u001b[0;34m=\u001b[0m \u001b[0mjson\u001b[0m\u001b[0;34m.\u001b[0m\u001b[0mloads\u001b[0m\u001b[0;34m(\u001b[0m\u001b[0mdata\u001b[0m\u001b[0;34m[\u001b[0m\u001b[0;36m0\u001b[0m\u001b[0;34m]\u001b[0m\u001b[0;34m[\u001b[0m\u001b[0;36m2\u001b[0m\u001b[0;34m]\u001b[0m\u001b[0;34m)\u001b[0m\u001b[0;34m\u001b[0m\u001b[0;34m\u001b[0m\u001b[0m\n\u001b[0m\u001b[1;32m    220\u001b[0m         \u001b[0;31m# not sure\u001b[0m\u001b[0;34m\u001b[0m\u001b[0;34m\u001b[0m\u001b[0m\n\u001b[1;32m    221\u001b[0m         \u001b[0mshould_spacing\u001b[0m \u001b[0;34m=\u001b[0m \u001b[0mparsed\u001b[0m\u001b[0;34m[\u001b[0m\u001b[0;36m1\u001b[0m\u001b[0;34m]\u001b[0m\u001b[0;34m[\u001b[0m\u001b[0;36m0\u001b[0m\u001b[0;34m]\u001b[0m\u001b[0;34m[\u001b[0m\u001b[0;36m0\u001b[0m\u001b[0;34m]\u001b[0m\u001b[0;34m[\u001b[0m\u001b[0;36m3\u001b[0m\u001b[0;34m]\u001b[0m\u001b[0;34m\u001b[0m\u001b[0;34m\u001b[0m\u001b[0m\n",
            "\u001b[0;32m/usr/lib/python3.10/json/__init__.py\u001b[0m in \u001b[0;36mloads\u001b[0;34m(s, cls, object_hook, parse_float, parse_int, parse_constant, object_pairs_hook, **kw)\u001b[0m\n\u001b[1;32m    337\u001b[0m     \u001b[0;32melse\u001b[0m\u001b[0;34m:\u001b[0m\u001b[0;34m\u001b[0m\u001b[0;34m\u001b[0m\u001b[0m\n\u001b[1;32m    338\u001b[0m         \u001b[0;32mif\u001b[0m \u001b[0;32mnot\u001b[0m \u001b[0misinstance\u001b[0m\u001b[0;34m(\u001b[0m\u001b[0ms\u001b[0m\u001b[0;34m,\u001b[0m \u001b[0;34m(\u001b[0m\u001b[0mbytes\u001b[0m\u001b[0;34m,\u001b[0m \u001b[0mbytearray\u001b[0m\u001b[0;34m)\u001b[0m\u001b[0;34m)\u001b[0m\u001b[0;34m:\u001b[0m\u001b[0;34m\u001b[0m\u001b[0;34m\u001b[0m\u001b[0m\n\u001b[0;32m--> 339\u001b[0;31m             raise TypeError(f'the JSON object must be str, bytes or bytearray, '\n\u001b[0m\u001b[1;32m    340\u001b[0m                             f'not {s.__class__.__name__}')\n\u001b[1;32m    341\u001b[0m         \u001b[0ms\u001b[0m \u001b[0;34m=\u001b[0m \u001b[0ms\u001b[0m\u001b[0;34m.\u001b[0m\u001b[0mdecode\u001b[0m\u001b[0;34m(\u001b[0m\u001b[0mdetect_encoding\u001b[0m\u001b[0;34m(\u001b[0m\u001b[0ms\u001b[0m\u001b[0;34m)\u001b[0m\u001b[0;34m,\u001b[0m \u001b[0;34m'surrogatepass'\u001b[0m\u001b[0;34m)\u001b[0m\u001b[0;34m\u001b[0m\u001b[0;34m\u001b[0m\u001b[0m\n",
            "\u001b[0;31mTypeError\u001b[0m: the JSON object must be str, bytes or bytearray, not NoneType"
          ]
        }
      ]
    },
    {
      "cell_type": "code",
      "source": [
        "# !pip install googletrans\n",
        "# !pip install --upgrade googletrans==4.0.0-rc1\n",
        "!pip install google-cloud-translate"
      ],
      "metadata": {
        "colab": {
          "base_uri": "https://localhost:8080/"
        },
        "id": "RKSNsWF9fUAo",
        "outputId": "7c7d6f5f-91ec-42ab-e5c4-71d4e09ccd41"
      },
      "execution_count": null,
      "outputs": [
        {
          "output_type": "stream",
          "name": "stdout",
          "text": [
            "Looking in indexes: https://pypi.org/simple, https://us-python.pkg.dev/colab-wheels/public/simple/\n",
            "Requirement already satisfied: google-cloud-translate in /usr/local/lib/python3.10/dist-packages (3.11.1)\n",
            "Requirement already satisfied: google-api-core[grpc]!=2.0.*,!=2.1.*,!=2.10.*,!=2.2.*,!=2.3.*,!=2.4.*,!=2.5.*,!=2.6.*,!=2.7.*,!=2.8.*,!=2.9.*,<3.0.0dev,>=1.34.0 in /usr/local/lib/python3.10/dist-packages (from google-cloud-translate) (2.11.0)\n",
            "Requirement already satisfied: google-cloud-core<3.0.0dev,>=1.3.0 in /usr/local/lib/python3.10/dist-packages (from google-cloud-translate) (2.3.2)\n",
            "Requirement already satisfied: proto-plus<2.0.0dev,>=1.22.0 in /usr/local/lib/python3.10/dist-packages (from google-cloud-translate) (1.22.2)\n",
            "Requirement already satisfied: protobuf!=3.20.0,!=3.20.1,!=4.21.0,!=4.21.1,!=4.21.2,!=4.21.3,!=4.21.4,!=4.21.5,<5.0.0dev,>=3.19.5 in /usr/local/lib/python3.10/dist-packages (from google-cloud-translate) (3.20.3)\n",
            "Requirement already satisfied: googleapis-common-protos<2.0dev,>=1.56.2 in /usr/local/lib/python3.10/dist-packages (from google-api-core[grpc]!=2.0.*,!=2.1.*,!=2.10.*,!=2.2.*,!=2.3.*,!=2.4.*,!=2.5.*,!=2.6.*,!=2.7.*,!=2.8.*,!=2.9.*,<3.0.0dev,>=1.34.0->google-cloud-translate) (1.59.0)\n",
            "Requirement already satisfied: google-auth<3.0dev,>=2.14.1 in /usr/local/lib/python3.10/dist-packages (from google-api-core[grpc]!=2.0.*,!=2.1.*,!=2.10.*,!=2.2.*,!=2.3.*,!=2.4.*,!=2.5.*,!=2.6.*,!=2.7.*,!=2.8.*,!=2.9.*,<3.0.0dev,>=1.34.0->google-cloud-translate) (2.17.3)\n",
            "Requirement already satisfied: requests<3.0.0dev,>=2.18.0 in /usr/local/lib/python3.10/dist-packages (from google-api-core[grpc]!=2.0.*,!=2.1.*,!=2.10.*,!=2.2.*,!=2.3.*,!=2.4.*,!=2.5.*,!=2.6.*,!=2.7.*,!=2.8.*,!=2.9.*,<3.0.0dev,>=1.34.0->google-cloud-translate) (2.27.1)\n",
            "Requirement already satisfied: grpcio<2.0dev,>=1.33.2 in /usr/local/lib/python3.10/dist-packages (from google-api-core[grpc]!=2.0.*,!=2.1.*,!=2.10.*,!=2.2.*,!=2.3.*,!=2.4.*,!=2.5.*,!=2.6.*,!=2.7.*,!=2.8.*,!=2.9.*,<3.0.0dev,>=1.34.0->google-cloud-translate) (1.54.0)\n",
            "Requirement already satisfied: grpcio-status<2.0dev,>=1.33.2 in /usr/local/lib/python3.10/dist-packages (from google-api-core[grpc]!=2.0.*,!=2.1.*,!=2.10.*,!=2.2.*,!=2.3.*,!=2.4.*,!=2.5.*,!=2.6.*,!=2.7.*,!=2.8.*,!=2.9.*,<3.0.0dev,>=1.34.0->google-cloud-translate) (1.48.2)\n",
            "Requirement already satisfied: cachetools<6.0,>=2.0.0 in /usr/local/lib/python3.10/dist-packages (from google-auth<3.0dev,>=2.14.1->google-api-core[grpc]!=2.0.*,!=2.1.*,!=2.10.*,!=2.2.*,!=2.3.*,!=2.4.*,!=2.5.*,!=2.6.*,!=2.7.*,!=2.8.*,!=2.9.*,<3.0.0dev,>=1.34.0->google-cloud-translate) (5.3.0)\n",
            "Requirement already satisfied: pyasn1-modules>=0.2.1 in /usr/local/lib/python3.10/dist-packages (from google-auth<3.0dev,>=2.14.1->google-api-core[grpc]!=2.0.*,!=2.1.*,!=2.10.*,!=2.2.*,!=2.3.*,!=2.4.*,!=2.5.*,!=2.6.*,!=2.7.*,!=2.8.*,!=2.9.*,<3.0.0dev,>=1.34.0->google-cloud-translate) (0.3.0)\n",
            "Requirement already satisfied: six>=1.9.0 in /usr/local/lib/python3.10/dist-packages (from google-auth<3.0dev,>=2.14.1->google-api-core[grpc]!=2.0.*,!=2.1.*,!=2.10.*,!=2.2.*,!=2.3.*,!=2.4.*,!=2.5.*,!=2.6.*,!=2.7.*,!=2.8.*,!=2.9.*,<3.0.0dev,>=1.34.0->google-cloud-translate) (1.16.0)\n",
            "Requirement already satisfied: rsa<5,>=3.1.4 in /usr/local/lib/python3.10/dist-packages (from google-auth<3.0dev,>=2.14.1->google-api-core[grpc]!=2.0.*,!=2.1.*,!=2.10.*,!=2.2.*,!=2.3.*,!=2.4.*,!=2.5.*,!=2.6.*,!=2.7.*,!=2.8.*,!=2.9.*,<3.0.0dev,>=1.34.0->google-cloud-translate) (4.9)\n",
            "Requirement already satisfied: urllib3<1.27,>=1.21.1 in /usr/local/lib/python3.10/dist-packages (from requests<3.0.0dev,>=2.18.0->google-api-core[grpc]!=2.0.*,!=2.1.*,!=2.10.*,!=2.2.*,!=2.3.*,!=2.4.*,!=2.5.*,!=2.6.*,!=2.7.*,!=2.8.*,!=2.9.*,<3.0.0dev,>=1.34.0->google-cloud-translate) (1.26.15)\n",
            "Requirement already satisfied: certifi>=2017.4.17 in /usr/local/lib/python3.10/dist-packages (from requests<3.0.0dev,>=2.18.0->google-api-core[grpc]!=2.0.*,!=2.1.*,!=2.10.*,!=2.2.*,!=2.3.*,!=2.4.*,!=2.5.*,!=2.6.*,!=2.7.*,!=2.8.*,!=2.9.*,<3.0.0dev,>=1.34.0->google-cloud-translate) (2022.12.7)\n",
            "Requirement already satisfied: charset-normalizer~=2.0.0 in /usr/local/lib/python3.10/dist-packages (from requests<3.0.0dev,>=2.18.0->google-api-core[grpc]!=2.0.*,!=2.1.*,!=2.10.*,!=2.2.*,!=2.3.*,!=2.4.*,!=2.5.*,!=2.6.*,!=2.7.*,!=2.8.*,!=2.9.*,<3.0.0dev,>=1.34.0->google-cloud-translate) (2.0.12)\n",
            "Requirement already satisfied: idna<4,>=2.5 in /usr/local/lib/python3.10/dist-packages (from requests<3.0.0dev,>=2.18.0->google-api-core[grpc]!=2.0.*,!=2.1.*,!=2.10.*,!=2.2.*,!=2.3.*,!=2.4.*,!=2.5.*,!=2.6.*,!=2.7.*,!=2.8.*,!=2.9.*,<3.0.0dev,>=1.34.0->google-cloud-translate) (2.10)\n",
            "Requirement already satisfied: pyasn1<0.6.0,>=0.4.6 in /usr/local/lib/python3.10/dist-packages (from pyasn1-modules>=0.2.1->google-auth<3.0dev,>=2.14.1->google-api-core[grpc]!=2.0.*,!=2.1.*,!=2.10.*,!=2.2.*,!=2.3.*,!=2.4.*,!=2.5.*,!=2.6.*,!=2.7.*,!=2.8.*,!=2.9.*,<3.0.0dev,>=1.34.0->google-cloud-translate) (0.5.0)\n"
          ]
        }
      ]
    },
    {
      "cell_type": "code",
      "source": [
        "from google.cloud import translate_v2 as translate\n",
        "\n",
        "# Initialize the Translate client\n",
        "translate_client = translate.Client()\n",
        "\n",
        "# Translate the word\n",
        "result = translate_client.translate(\"నాని\", target_language=\"fr\", source_language=\"te\")\n",
        "\n",
        "# Retrieve the translated text\n",
        "translated_word = result[\"translatedText\"]\n",
        "\n",
        "# Print the translated word\n",
        "print(translated_word)\n"
      ],
      "metadata": {
        "colab": {
          "base_uri": "https://localhost:8080/",
          "height": 415
        },
        "id": "RSUpRDDEfZuw",
        "outputId": "99c7ce37-03a0-4ec3-e969-559a8a827eb5"
      },
      "execution_count": null,
      "outputs": [
        {
          "output_type": "error",
          "ename": "RefreshError",
          "evalue": "ignored",
          "traceback": [
            "\u001b[0;31m---------------------------------------------------------------------------\u001b[0m",
            "\u001b[0;31mTransportError\u001b[0m                            Traceback (most recent call last)",
            "\u001b[0;32m/usr/local/lib/python3.10/dist-packages/google/auth/compute_engine/credentials.py\u001b[0m in \u001b[0;36mrefresh\u001b[0;34m(self, request)\u001b[0m\n\u001b[1;32m    110\u001b[0m         \u001b[0;32mtry\u001b[0m\u001b[0;34m:\u001b[0m\u001b[0;34m\u001b[0m\u001b[0;34m\u001b[0m\u001b[0m\n\u001b[0;32m--> 111\u001b[0;31m             \u001b[0mself\u001b[0m\u001b[0;34m.\u001b[0m\u001b[0m_retrieve_info\u001b[0m\u001b[0;34m(\u001b[0m\u001b[0mrequest\u001b[0m\u001b[0;34m)\u001b[0m\u001b[0;34m\u001b[0m\u001b[0;34m\u001b[0m\u001b[0m\n\u001b[0m\u001b[1;32m    112\u001b[0m             self.token, self.expiry = _metadata.get_service_account_token(\n",
            "\u001b[0;32m/usr/local/lib/python3.10/dist-packages/google/auth/compute_engine/credentials.py\u001b[0m in \u001b[0;36m_retrieve_info\u001b[0;34m(self, request)\u001b[0m\n\u001b[1;32m     86\u001b[0m         \"\"\"\n\u001b[0;32m---> 87\u001b[0;31m         info = _metadata.get_service_account_info(\n\u001b[0m\u001b[1;32m     88\u001b[0m             \u001b[0mrequest\u001b[0m\u001b[0;34m,\u001b[0m \u001b[0mservice_account\u001b[0m\u001b[0;34m=\u001b[0m\u001b[0mself\u001b[0m\u001b[0;34m.\u001b[0m\u001b[0m_service_account_email\u001b[0m\u001b[0;34m\u001b[0m\u001b[0;34m\u001b[0m\u001b[0m\n",
            "\u001b[0;32m/usr/local/lib/python3.10/dist-packages/google/auth/compute_engine/_metadata.py\u001b[0m in \u001b[0;36mget_service_account_info\u001b[0;34m(request, service_account)\u001b[0m\n\u001b[1;32m    233\u001b[0m     \u001b[0;31m# for more on the use of 'recursive'.\u001b[0m\u001b[0;34m\u001b[0m\u001b[0;34m\u001b[0m\u001b[0m\n\u001b[0;32m--> 234\u001b[0;31m     \u001b[0;32mreturn\u001b[0m \u001b[0mget\u001b[0m\u001b[0;34m(\u001b[0m\u001b[0mrequest\u001b[0m\u001b[0;34m,\u001b[0m \u001b[0mpath\u001b[0m\u001b[0;34m,\u001b[0m \u001b[0mparams\u001b[0m\u001b[0;34m=\u001b[0m\u001b[0;34m{\u001b[0m\u001b[0;34m\"recursive\"\u001b[0m\u001b[0;34m:\u001b[0m \u001b[0;34m\"true\"\u001b[0m\u001b[0;34m}\u001b[0m\u001b[0;34m)\u001b[0m\u001b[0;34m\u001b[0m\u001b[0;34m\u001b[0m\u001b[0m\n\u001b[0m\u001b[1;32m    235\u001b[0m \u001b[0;34m\u001b[0m\u001b[0m\n",
            "\u001b[0;32m/usr/local/lib/python3.10/dist-packages/google/auth/compute_engine/_metadata.py\u001b[0m in \u001b[0;36mget\u001b[0;34m(request, path, root, params, recursive, retry_count)\u001b[0m\n\u001b[1;32m    181\u001b[0m     \u001b[0;32melse\u001b[0m\u001b[0;34m:\u001b[0m\u001b[0;34m\u001b[0m\u001b[0;34m\u001b[0m\u001b[0m\n\u001b[0;32m--> 182\u001b[0;31m         raise exceptions.TransportError(\n\u001b[0m\u001b[1;32m    183\u001b[0m             \u001b[0;34m\"Failed to retrieve {} from the Google Compute Engine \"\u001b[0m\u001b[0;34m\u001b[0m\u001b[0;34m\u001b[0m\u001b[0m\n",
            "\u001b[0;31mTransportError\u001b[0m: (\"Failed to retrieve http://metadata.google.internal/computeMetadata/v1/instance/service-accounts/default/?recursive=true from the Google Compute Engine metadata service. Status: 404 Response:\\nb''\", <google.auth.transport.requests._Response object at 0x7ff389bb8100>)",
            "\nThe above exception was the direct cause of the following exception:\n",
            "\u001b[0;31mRefreshError\u001b[0m                              Traceback (most recent call last)",
            "\u001b[0;32m<ipython-input-9-ba61fef1e0f8>\u001b[0m in \u001b[0;36m<cell line: 7>\u001b[0;34m()\u001b[0m\n\u001b[1;32m      5\u001b[0m \u001b[0;34m\u001b[0m\u001b[0m\n\u001b[1;32m      6\u001b[0m \u001b[0;31m# Translate the word\u001b[0m\u001b[0;34m\u001b[0m\u001b[0;34m\u001b[0m\u001b[0m\n\u001b[0;32m----> 7\u001b[0;31m \u001b[0mresult\u001b[0m \u001b[0;34m=\u001b[0m \u001b[0mtranslate_client\u001b[0m\u001b[0;34m.\u001b[0m\u001b[0mtranslate\u001b[0m\u001b[0;34m(\u001b[0m\u001b[0;34m\"నాని\"\u001b[0m\u001b[0;34m,\u001b[0m \u001b[0mtarget_language\u001b[0m\u001b[0;34m=\u001b[0m\u001b[0;34m\"fr\"\u001b[0m\u001b[0;34m,\u001b[0m \u001b[0msource_language\u001b[0m\u001b[0;34m=\u001b[0m\u001b[0;34m\"te\"\u001b[0m\u001b[0;34m)\u001b[0m\u001b[0;34m\u001b[0m\u001b[0;34m\u001b[0m\u001b[0m\n\u001b[0m\u001b[1;32m      8\u001b[0m \u001b[0;34m\u001b[0m\u001b[0m\n\u001b[1;32m      9\u001b[0m \u001b[0;31m# Retrieve the translated text\u001b[0m\u001b[0;34m\u001b[0m\u001b[0;34m\u001b[0m\u001b[0m\n",
            "\u001b[0;32m/usr/local/lib/python3.10/dist-packages/google/cloud/translate_v2/client.py\u001b[0m in \u001b[0;36mtranslate\u001b[0;34m(self, values, target_language, format_, source_language, customization_ids, model)\u001b[0m\n\u001b[1;32m    264\u001b[0m         }\n\u001b[1;32m    265\u001b[0m \u001b[0;34m\u001b[0m\u001b[0m\n\u001b[0;32m--> 266\u001b[0;31m         \u001b[0mresponse\u001b[0m \u001b[0;34m=\u001b[0m \u001b[0mself\u001b[0m\u001b[0;34m.\u001b[0m\u001b[0m_connection\u001b[0m\u001b[0;34m.\u001b[0m\u001b[0mapi_request\u001b[0m\u001b[0;34m(\u001b[0m\u001b[0mmethod\u001b[0m\u001b[0;34m=\u001b[0m\u001b[0;34m\"POST\"\u001b[0m\u001b[0;34m,\u001b[0m \u001b[0mpath\u001b[0m\u001b[0;34m=\u001b[0m\u001b[0;34m\"\"\u001b[0m\u001b[0;34m,\u001b[0m \u001b[0mdata\u001b[0m\u001b[0;34m=\u001b[0m\u001b[0mdata\u001b[0m\u001b[0;34m)\u001b[0m\u001b[0;34m\u001b[0m\u001b[0;34m\u001b[0m\u001b[0m\n\u001b[0m\u001b[1;32m    267\u001b[0m \u001b[0;34m\u001b[0m\u001b[0m\n\u001b[1;32m    268\u001b[0m         \u001b[0mtranslations\u001b[0m \u001b[0;34m=\u001b[0m \u001b[0mresponse\u001b[0m\u001b[0;34m.\u001b[0m\u001b[0mget\u001b[0m\u001b[0;34m(\u001b[0m\u001b[0;34m\"data\"\u001b[0m\u001b[0;34m,\u001b[0m \u001b[0;34m{\u001b[0m\u001b[0;34m}\u001b[0m\u001b[0;34m)\u001b[0m\u001b[0;34m.\u001b[0m\u001b[0mget\u001b[0m\u001b[0;34m(\u001b[0m\u001b[0;34m\"translations\"\u001b[0m\u001b[0;34m,\u001b[0m \u001b[0;34m(\u001b[0m\u001b[0;34m)\u001b[0m\u001b[0;34m)\u001b[0m\u001b[0;34m\u001b[0m\u001b[0;34m\u001b[0m\u001b[0m\n",
            "\u001b[0;32m/usr/local/lib/python3.10/dist-packages/google/cloud/_http/__init__.py\u001b[0m in \u001b[0;36mapi_request\u001b[0;34m(self, method, path, query_params, data, content_type, headers, api_base_url, api_version, expect_json, _target_object, timeout, extra_api_info)\u001b[0m\n\u001b[1;32m    480\u001b[0m             \u001b[0mcontent_type\u001b[0m \u001b[0;34m=\u001b[0m \u001b[0;34m\"application/json\"\u001b[0m\u001b[0;34m\u001b[0m\u001b[0;34m\u001b[0m\u001b[0m\n\u001b[1;32m    481\u001b[0m \u001b[0;34m\u001b[0m\u001b[0m\n\u001b[0;32m--> 482\u001b[0;31m         response = self._make_request(\n\u001b[0m\u001b[1;32m    483\u001b[0m             \u001b[0mmethod\u001b[0m\u001b[0;34m=\u001b[0m\u001b[0mmethod\u001b[0m\u001b[0;34m,\u001b[0m\u001b[0;34m\u001b[0m\u001b[0;34m\u001b[0m\u001b[0m\n\u001b[1;32m    484\u001b[0m             \u001b[0murl\u001b[0m\u001b[0;34m=\u001b[0m\u001b[0murl\u001b[0m\u001b[0;34m,\u001b[0m\u001b[0;34m\u001b[0m\u001b[0;34m\u001b[0m\u001b[0m\n",
            "\u001b[0;32m/usr/local/lib/python3.10/dist-packages/google/cloud/_http/__init__.py\u001b[0m in \u001b[0;36m_make_request\u001b[0;34m(self, method, url, data, content_type, headers, target_object, timeout, extra_api_info)\u001b[0m\n\u001b[1;32m    339\u001b[0m         \u001b[0mheaders\u001b[0m\u001b[0;34m[\u001b[0m\u001b[0;34m\"User-Agent\"\u001b[0m\u001b[0;34m]\u001b[0m \u001b[0;34m=\u001b[0m \u001b[0mself\u001b[0m\u001b[0;34m.\u001b[0m\u001b[0muser_agent\u001b[0m\u001b[0;34m\u001b[0m\u001b[0;34m\u001b[0m\u001b[0m\n\u001b[1;32m    340\u001b[0m \u001b[0;34m\u001b[0m\u001b[0m\n\u001b[0;32m--> 341\u001b[0;31m         return self._do_request(\n\u001b[0m\u001b[1;32m    342\u001b[0m             \u001b[0mmethod\u001b[0m\u001b[0;34m,\u001b[0m \u001b[0murl\u001b[0m\u001b[0;34m,\u001b[0m \u001b[0mheaders\u001b[0m\u001b[0;34m,\u001b[0m \u001b[0mdata\u001b[0m\u001b[0;34m,\u001b[0m \u001b[0mtarget_object\u001b[0m\u001b[0;34m,\u001b[0m \u001b[0mtimeout\u001b[0m\u001b[0;34m=\u001b[0m\u001b[0mtimeout\u001b[0m\u001b[0;34m\u001b[0m\u001b[0;34m\u001b[0m\u001b[0m\n\u001b[1;32m    343\u001b[0m         )\n",
            "\u001b[0;32m/usr/local/lib/python3.10/dist-packages/google/cloud/_http/__init__.py\u001b[0m in \u001b[0;36m_do_request\u001b[0;34m(self, method, url, headers, data, target_object, timeout)\u001b[0m\n\u001b[1;32m    377\u001b[0m         \u001b[0;34m:\u001b[0m\u001b[0mreturns\u001b[0m\u001b[0;34m:\u001b[0m \u001b[0mThe\u001b[0m \u001b[0mHTTP\u001b[0m \u001b[0mresponse\u001b[0m\u001b[0;34m.\u001b[0m\u001b[0;34m\u001b[0m\u001b[0;34m\u001b[0m\u001b[0m\n\u001b[1;32m    378\u001b[0m         \"\"\"\n\u001b[0;32m--> 379\u001b[0;31m         return self.http.request(\n\u001b[0m\u001b[1;32m    380\u001b[0m             \u001b[0murl\u001b[0m\u001b[0;34m=\u001b[0m\u001b[0murl\u001b[0m\u001b[0;34m,\u001b[0m \u001b[0mmethod\u001b[0m\u001b[0;34m=\u001b[0m\u001b[0mmethod\u001b[0m\u001b[0;34m,\u001b[0m \u001b[0mheaders\u001b[0m\u001b[0;34m=\u001b[0m\u001b[0mheaders\u001b[0m\u001b[0;34m,\u001b[0m \u001b[0mdata\u001b[0m\u001b[0;34m=\u001b[0m\u001b[0mdata\u001b[0m\u001b[0;34m,\u001b[0m \u001b[0mtimeout\u001b[0m\u001b[0;34m=\u001b[0m\u001b[0mtimeout\u001b[0m\u001b[0;34m\u001b[0m\u001b[0;34m\u001b[0m\u001b[0m\n\u001b[1;32m    381\u001b[0m         )\n",
            "\u001b[0;32m/usr/local/lib/python3.10/dist-packages/google/auth/transport/requests.py\u001b[0m in \u001b[0;36mrequest\u001b[0;34m(self, method, url, data, headers, max_allowed_time, timeout, **kwargs)\u001b[0m\n\u001b[1;32m    543\u001b[0m \u001b[0;34m\u001b[0m\u001b[0m\n\u001b[1;32m    544\u001b[0m         \u001b[0;32mwith\u001b[0m \u001b[0mTimeoutGuard\u001b[0m\u001b[0;34m(\u001b[0m\u001b[0mremaining_time\u001b[0m\u001b[0;34m)\u001b[0m \u001b[0;32mas\u001b[0m \u001b[0mguard\u001b[0m\u001b[0;34m:\u001b[0m\u001b[0;34m\u001b[0m\u001b[0;34m\u001b[0m\u001b[0m\n\u001b[0;32m--> 545\u001b[0;31m             \u001b[0mself\u001b[0m\u001b[0;34m.\u001b[0m\u001b[0mcredentials\u001b[0m\u001b[0;34m.\u001b[0m\u001b[0mbefore_request\u001b[0m\u001b[0;34m(\u001b[0m\u001b[0mauth_request\u001b[0m\u001b[0;34m,\u001b[0m \u001b[0mmethod\u001b[0m\u001b[0;34m,\u001b[0m \u001b[0murl\u001b[0m\u001b[0;34m,\u001b[0m \u001b[0mrequest_headers\u001b[0m\u001b[0;34m)\u001b[0m\u001b[0;34m\u001b[0m\u001b[0;34m\u001b[0m\u001b[0m\n\u001b[0m\u001b[1;32m    546\u001b[0m         \u001b[0mremaining_time\u001b[0m \u001b[0;34m=\u001b[0m \u001b[0mguard\u001b[0m\u001b[0;34m.\u001b[0m\u001b[0mremaining_timeout\u001b[0m\u001b[0;34m\u001b[0m\u001b[0;34m\u001b[0m\u001b[0m\n\u001b[1;32m    547\u001b[0m \u001b[0;34m\u001b[0m\u001b[0m\n",
            "\u001b[0;32m/usr/local/lib/python3.10/dist-packages/google/auth/credentials.py\u001b[0m in \u001b[0;36mbefore_request\u001b[0;34m(self, request, method, url, headers)\u001b[0m\n\u001b[1;32m    133\u001b[0m         \u001b[0;31m# the http request.)\u001b[0m\u001b[0;34m\u001b[0m\u001b[0;34m\u001b[0m\u001b[0m\n\u001b[1;32m    134\u001b[0m         \u001b[0;32mif\u001b[0m \u001b[0;32mnot\u001b[0m \u001b[0mself\u001b[0m\u001b[0;34m.\u001b[0m\u001b[0mvalid\u001b[0m\u001b[0;34m:\u001b[0m\u001b[0;34m\u001b[0m\u001b[0;34m\u001b[0m\u001b[0m\n\u001b[0;32m--> 135\u001b[0;31m             \u001b[0mself\u001b[0m\u001b[0;34m.\u001b[0m\u001b[0mrefresh\u001b[0m\u001b[0;34m(\u001b[0m\u001b[0mrequest\u001b[0m\u001b[0;34m)\u001b[0m\u001b[0;34m\u001b[0m\u001b[0;34m\u001b[0m\u001b[0m\n\u001b[0m\u001b[1;32m    136\u001b[0m         \u001b[0mself\u001b[0m\u001b[0;34m.\u001b[0m\u001b[0mapply\u001b[0m\u001b[0;34m(\u001b[0m\u001b[0mheaders\u001b[0m\u001b[0;34m)\u001b[0m\u001b[0;34m\u001b[0m\u001b[0;34m\u001b[0m\u001b[0m\n\u001b[1;32m    137\u001b[0m \u001b[0;34m\u001b[0m\u001b[0m\n",
            "\u001b[0;32m/usr/local/lib/python3.10/dist-packages/google/auth/compute_engine/credentials.py\u001b[0m in \u001b[0;36mrefresh\u001b[0;34m(self, request)\u001b[0m\n\u001b[1;32m    115\u001b[0m         \u001b[0;32mexcept\u001b[0m \u001b[0mexceptions\u001b[0m\u001b[0;34m.\u001b[0m\u001b[0mTransportError\u001b[0m \u001b[0;32mas\u001b[0m \u001b[0mcaught_exc\u001b[0m\u001b[0;34m:\u001b[0m\u001b[0;34m\u001b[0m\u001b[0;34m\u001b[0m\u001b[0m\n\u001b[1;32m    116\u001b[0m             \u001b[0mnew_exc\u001b[0m \u001b[0;34m=\u001b[0m \u001b[0mexceptions\u001b[0m\u001b[0;34m.\u001b[0m\u001b[0mRefreshError\u001b[0m\u001b[0;34m(\u001b[0m\u001b[0mcaught_exc\u001b[0m\u001b[0;34m)\u001b[0m\u001b[0;34m\u001b[0m\u001b[0;34m\u001b[0m\u001b[0m\n\u001b[0;32m--> 117\u001b[0;31m             \u001b[0msix\u001b[0m\u001b[0;34m.\u001b[0m\u001b[0mraise_from\u001b[0m\u001b[0;34m(\u001b[0m\u001b[0mnew_exc\u001b[0m\u001b[0;34m,\u001b[0m \u001b[0mcaught_exc\u001b[0m\u001b[0;34m)\u001b[0m\u001b[0;34m\u001b[0m\u001b[0;34m\u001b[0m\u001b[0m\n\u001b[0m\u001b[1;32m    118\u001b[0m \u001b[0;34m\u001b[0m\u001b[0m\n\u001b[1;32m    119\u001b[0m     \u001b[0;34m@\u001b[0m\u001b[0mproperty\u001b[0m\u001b[0;34m\u001b[0m\u001b[0;34m\u001b[0m\u001b[0m\n",
            "\u001b[0;32m/usr/local/lib/python3.10/dist-packages/six.py\u001b[0m in \u001b[0;36mraise_from\u001b[0;34m(value, from_value)\u001b[0m\n",
            "\u001b[0;31mRefreshError\u001b[0m: (\"Failed to retrieve http://metadata.google.internal/computeMetadata/v1/instance/service-accounts/default/?recursive=true from the Google Compute Engine metadata service. Status: 404 Response:\\nb''\", <google.auth.transport.requests._Response object at 0x7ff389bb8100>)"
          ]
        }
      ]
    },
    {
      "cell_type": "code",
      "source": [
        "# First, install Fairseq\n",
        "!pip install fairseq\n",
        "\n",
        "# Then, download the pre-trained model\n",
        "!wget https://dl.fbaipublicfiles.com/fairseq/models/wmt19.en-de.joined-dict.ensemble.tar.gz\n",
        "!tar -xzvf wmt19.en-de.joined-dict.ensemble.tar.gz\n",
        "\n"
      ],
      "metadata": {
        "colab": {
          "base_uri": "https://localhost:8080/"
        },
        "id": "XY8EvLO5jPuI",
        "outputId": "47a64a21-02ab-408a-b15c-3af2ec626af4"
      },
      "execution_count": null,
      "outputs": [
        {
          "output_type": "stream",
          "name": "stdout",
          "text": [
            "Looking in indexes: https://pypi.org/simple, https://us-python.pkg.dev/colab-wheels/public/simple/\n",
            "Requirement already satisfied: fairseq in /usr/local/lib/python3.10/dist-packages (0.12.2)\n",
            "Requirement already satisfied: cffi in /usr/local/lib/python3.10/dist-packages (from fairseq) (1.15.1)\n",
            "Requirement already satisfied: cython in /usr/local/lib/python3.10/dist-packages (from fairseq) (0.29.34)\n",
            "Requirement already satisfied: hydra-core<1.1,>=1.0.7 in /usr/local/lib/python3.10/dist-packages (from fairseq) (1.0.7)\n",
            "Requirement already satisfied: omegaconf<2.1 in /usr/local/lib/python3.10/dist-packages (from fairseq) (2.0.6)\n",
            "Requirement already satisfied: regex in /usr/local/lib/python3.10/dist-packages (from fairseq) (2022.10.31)\n",
            "Requirement already satisfied: sacrebleu>=1.4.12 in /usr/local/lib/python3.10/dist-packages (from fairseq) (2.3.1)\n",
            "Requirement already satisfied: torch in /usr/local/lib/python3.10/dist-packages (from fairseq) (2.0.1+cu118)\n",
            "Requirement already satisfied: tqdm in /usr/local/lib/python3.10/dist-packages (from fairseq) (4.65.0)\n",
            "Requirement already satisfied: bitarray in /usr/local/lib/python3.10/dist-packages (from fairseq) (2.7.4)\n",
            "Requirement already satisfied: torchaudio>=0.8.0 in /usr/local/lib/python3.10/dist-packages (from fairseq) (2.0.2+cu118)\n",
            "Requirement already satisfied: numpy in /usr/local/lib/python3.10/dist-packages (from fairseq) (1.22.4)\n",
            "Requirement already satisfied: antlr4-python3-runtime==4.8 in /usr/local/lib/python3.10/dist-packages (from hydra-core<1.1,>=1.0.7->fairseq) (4.8)\n",
            "Requirement already satisfied: PyYAML>=5.1.* in /usr/local/lib/python3.10/dist-packages (from omegaconf<2.1->fairseq) (6.0)\n",
            "Requirement already satisfied: typing-extensions in /usr/local/lib/python3.10/dist-packages (from omegaconf<2.1->fairseq) (4.5.0)\n",
            "Requirement already satisfied: portalocker in /usr/local/lib/python3.10/dist-packages (from sacrebleu>=1.4.12->fairseq) (2.7.0)\n",
            "Requirement already satisfied: tabulate>=0.8.9 in /usr/local/lib/python3.10/dist-packages (from sacrebleu>=1.4.12->fairseq) (0.8.10)\n",
            "Requirement already satisfied: colorama in /usr/local/lib/python3.10/dist-packages (from sacrebleu>=1.4.12->fairseq) (0.4.6)\n",
            "Requirement already satisfied: lxml in /usr/local/lib/python3.10/dist-packages (from sacrebleu>=1.4.12->fairseq) (4.9.2)\n",
            "Requirement already satisfied: filelock in /usr/local/lib/python3.10/dist-packages (from torch->fairseq) (3.12.0)\n",
            "Requirement already satisfied: sympy in /usr/local/lib/python3.10/dist-packages (from torch->fairseq) (1.11.1)\n",
            "Requirement already satisfied: networkx in /usr/local/lib/python3.10/dist-packages (from torch->fairseq) (3.1)\n",
            "Requirement already satisfied: jinja2 in /usr/local/lib/python3.10/dist-packages (from torch->fairseq) (3.1.2)\n",
            "Requirement already satisfied: triton==2.0.0 in /usr/local/lib/python3.10/dist-packages (from torch->fairseq) (2.0.0)\n",
            "Requirement already satisfied: cmake in /usr/local/lib/python3.10/dist-packages (from triton==2.0.0->torch->fairseq) (3.25.2)\n",
            "Requirement already satisfied: lit in /usr/local/lib/python3.10/dist-packages (from triton==2.0.0->torch->fairseq) (16.0.5)\n",
            "Requirement already satisfied: pycparser in /usr/local/lib/python3.10/dist-packages (from cffi->fairseq) (2.21)\n",
            "Requirement already satisfied: MarkupSafe>=2.0 in /usr/local/lib/python3.10/dist-packages (from jinja2->torch->fairseq) (2.1.2)\n",
            "Requirement already satisfied: mpmath>=0.19 in /usr/local/lib/python3.10/dist-packages (from sympy->torch->fairseq) (1.3.0)\n",
            "--2023-06-02 13:14:13--  https://dl.fbaipublicfiles.com/fairseq/models/wmt19.en-de.joined-dict.ensemble.tar.gz\n",
            "Resolving dl.fbaipublicfiles.com (dl.fbaipublicfiles.com)... 108.156.60.69, 108.156.60.51, 108.156.60.36, ...\n",
            "Connecting to dl.fbaipublicfiles.com (dl.fbaipublicfiles.com)|108.156.60.69|:443... connected.\n",
            "HTTP request sent, awaiting response... 200 OK\n",
            "Length: 11946275315 (11G) [application/gzip]\n",
            "Saving to: ‘wmt19.en-de.joined-dict.ensemble.tar.gz.1’\n",
            "\n",
            "wmt19.en-de.joined- 100%[===================>]  11.12G   185MB/s    in 60s     \n",
            "\n",
            "2023-06-02 13:15:13 (190 MB/s) - ‘wmt19.en-de.joined-dict.ensemble.tar.gz.1’ saved [11946275315/11946275315]\n",
            "\n",
            "wmt19.en-de.joined-dict.ensemble/\n",
            "wmt19.en-de.joined-dict.ensemble/model4.pt\n",
            "wmt19.en-de.joined-dict.ensemble/model3.pt\n",
            "wmt19.en-de.joined-dict.ensemble/model2.pt\n",
            "wmt19.en-de.joined-dict.ensemble/model1.pt\n",
            "wmt19.en-de.joined-dict.ensemble/bpecodes\n",
            "wmt19.en-de.joined-dict.ensemble/dict.de.txt\n",
            "wmt19.en-de.joined-dict.ensemble/dict.en.txt\n"
          ]
        }
      ]
    },
    {
      "cell_type": "code",
      "source": [
        "# First, install Fairseq\n",
        "!pip install fairseq\n",
        "\n",
        "# Then, download the pre-trained model\n",
        "!wget httpsdl.fbaipublicfiles.com/fairseq/models/wmt19.en-de.joined-dict.ensemble.tar.gz\n",
        "!tar -xzvf wmt19.en-de.joined-dict.ensemble.tar.gz\n",
        "\n",
        "# Next, load the\n",
        "from fairseq.models.transformer import TransformerModel\n",
        "en_de = TransformerModel.from_pretrained(\n",
        "  'wmt19.en-de.joined-dict.ensemble',\n",
        "  checkpoint_file='model1.pt:model2.pt:model3.pt:model4.pt',\n",
        "  data_name_or_path='wmt19.en-de.joined-dict'\n",
        ")\n",
        "\n",
        "# Finally, translate a sentence\n",
        "en_de.translate('Hello, how are you?')\n"
      ],
      "metadata": {
        "colab": {
          "base_uri": "https://localhost:8080/",
          "height": 1000
        },
        "id": "mNWCwWDrzP1R",
        "outputId": "d8d494f8-67da-4ea7-a345-39a561a7fc16"
      },
      "execution_count": null,
      "outputs": [
        {
          "output_type": "stream",
          "name": "stdout",
          "text": [
            "Looking in indexes: https://pypi.org/simple, https://us-python.pkg.dev/colab-wheels/public/simple/\n",
            "Requirement already satisfied: fairseq in /usr/local/lib/python3.10/dist-packages (0.12.2)\n",
            "Requirement already satisfied: cffi in /usr/local/lib/python3.10/dist-packages (from fairseq) (1.15.1)\n",
            "Requirement already satisfied: cython in /usr/local/lib/python3.10/dist-packages (from fairseq) (0.29.34)\n",
            "Requirement already satisfied: hydra-core<1.1,>=1.0.7 in /usr/local/lib/python3.10/dist-packages (from fairseq) (1.0.7)\n",
            "Requirement already satisfied: omegaconf<2.1 in /usr/local/lib/python3.10/dist-packages (from fairseq) (2.0.6)\n",
            "Requirement already satisfied: regex in /usr/local/lib/python3.10/dist-packages (from fairseq) (2022.10.31)\n",
            "Requirement already satisfied: sacrebleu>=1.4.12 in /usr/local/lib/python3.10/dist-packages (from fairseq) (2.3.1)\n",
            "Requirement already satisfied: torch in /usr/local/lib/python3.10/dist-packages (from fairseq) (2.0.1+cu118)\n",
            "Requirement already satisfied: tqdm in /usr/local/lib/python3.10/dist-packages (from fairseq) (4.65.0)\n",
            "Requirement already satisfied: bitarray in /usr/local/lib/python3.10/dist-packages (from fairseq) (2.7.4)\n",
            "Requirement already satisfied: torchaudio>=0.8.0 in /usr/local/lib/python3.10/dist-packages (from fairseq) (2.0.2+cu118)\n",
            "Requirement already satisfied: numpy in /usr/local/lib/python3.10/dist-packages (from fairseq) (1.22.4)\n",
            "Requirement already satisfied: antlr4-python3-runtime==4.8 in /usr/local/lib/python3.10/dist-packages (from hydra-core<1.1,>=1.0.7->fairseq) (4.8)\n",
            "Requirement already satisfied: PyYAML>=5.1.* in /usr/local/lib/python3.10/dist-packages (from omegaconf<2.1->fairseq) (6.0)\n",
            "Requirement already satisfied: typing-extensions in /usr/local/lib/python3.10/dist-packages (from omegaconf<2.1->fairseq) (4.5.0)\n",
            "Requirement already satisfied: portalocker in /usr/local/lib/python3.10/dist-packages (from sacrebleu>=1.4.12->fairseq) (2.7.0)\n",
            "Requirement already satisfied: tabulate>=0.8.9 in /usr/local/lib/python3.10/dist-packages (from sacrebleu>=1.4.12->fairseq) (0.8.10)\n",
            "Requirement already satisfied: colorama in /usr/local/lib/python3.10/dist-packages (from sacrebleu>=1.4.12->fairseq) (0.4.6)\n",
            "Requirement already satisfied: lxml in /usr/local/lib/python3.10/dist-packages (from sacrebleu>=1.4.12->fairseq) (4.9.2)\n",
            "Requirement already satisfied: filelock in /usr/local/lib/python3.10/dist-packages (from torch->fairseq) (3.12.0)\n",
            "Requirement already satisfied: sympy in /usr/local/lib/python3.10/dist-packages (from torch->fairseq) (1.11.1)\n",
            "Requirement already satisfied: networkx in /usr/local/lib/python3.10/dist-packages (from torch->fairseq) (3.1)\n",
            "Requirement already satisfied: jinja2 in /usr/local/lib/python3.10/dist-packages (from torch->fairseq) (3.1.2)\n",
            "Requirement already satisfied: triton==2.0.0 in /usr/local/lib/python3.10/dist-packages (from torch->fairseq) (2.0.0)\n",
            "Requirement already satisfied: cmake in /usr/local/lib/python3.10/dist-packages (from triton==2.0.0->torch->fairseq) (3.25.2)\n",
            "Requirement already satisfied: lit in /usr/local/lib/python3.10/dist-packages (from triton==2.0.0->torch->fairseq) (16.0.5)\n",
            "Requirement already satisfied: pycparser in /usr/local/lib/python3.10/dist-packages (from cffi->fairseq) (2.21)\n",
            "Requirement already satisfied: MarkupSafe>=2.0 in /usr/local/lib/python3.10/dist-packages (from jinja2->torch->fairseq) (2.1.2)\n",
            "Requirement already satisfied: mpmath>=0.19 in /usr/local/lib/python3.10/dist-packages (from sympy->torch->fairseq) (1.3.0)\n",
            "--2023-06-02 13:34:37--  http://httpsdl.fbaipublicfiles.com/fairseq/models/wmt19.en-de.joined-dict.ensemble.tar.gz\n",
            "Resolving httpsdl.fbaipublicfiles.com (httpsdl.fbaipublicfiles.com)... failed: Name or service not known.\n",
            "wget: unable to resolve host address ‘httpsdl.fbaipublicfiles.com’\n",
            "wmt19.en-de.joined-dict.ensemble/\n",
            "wmt19.en-de.joined-dict.ensemble/model4.pt\n",
            "wmt19.en-de.joined-dict.ensemble/model3.pt\n",
            "wmt19.en-de.joined-dict.ensemble/model2.pt\n",
            "wmt19.en-de.joined-dict.ensemble/model1.pt\n",
            "wmt19.en-de.joined-dict.ensemble/bpecodes\n",
            "wmt19.en-de.joined-dict.ensemble/dict.de.txt\n",
            "wmt19.en-de.joined-dict.ensemble/dict.en.txt\n"
          ]
        },
        {
          "output_type": "error",
          "ename": "TypeError",
          "evalue": "ignored",
          "traceback": [
            "\u001b[0;31m---------------------------------------------------------------------------\u001b[0m",
            "\u001b[0;31mTypeError\u001b[0m                                 Traceback (most recent call last)",
            "\u001b[0;32m<ipython-input-5-ee7d5db600af>\u001b[0m in \u001b[0;36m<cell line: 10>\u001b[0;34m()\u001b[0m\n\u001b[1;32m      8\u001b[0m \u001b[0;31m# Next, load the\u001b[0m\u001b[0;34m\u001b[0m\u001b[0;34m\u001b[0m\u001b[0m\n\u001b[1;32m      9\u001b[0m \u001b[0;32mfrom\u001b[0m \u001b[0mfairseq\u001b[0m\u001b[0;34m.\u001b[0m\u001b[0mmodels\u001b[0m\u001b[0;34m.\u001b[0m\u001b[0mtransformer\u001b[0m \u001b[0;32mimport\u001b[0m \u001b[0mTransformerModel\u001b[0m\u001b[0;34m\u001b[0m\u001b[0;34m\u001b[0m\u001b[0m\n\u001b[0;32m---> 10\u001b[0;31m en_de = TransformerModel.from_pretrained(\n\u001b[0m\u001b[1;32m     11\u001b[0m   \u001b[0;34m'wmt19.en-de.joined-dict.ensemble'\u001b[0m\u001b[0;34m,\u001b[0m\u001b[0;34m\u001b[0m\u001b[0;34m\u001b[0m\u001b[0m\n\u001b[1;32m     12\u001b[0m   \u001b[0mcheckpoint_file\u001b[0m\u001b[0;34m=\u001b[0m\u001b[0;34m'model1.pt:model2.pt:model3.pt:model4.pt'\u001b[0m\u001b[0;34m,\u001b[0m\u001b[0;34m\u001b[0m\u001b[0;34m\u001b[0m\u001b[0m\n",
            "\u001b[0;32m/usr/local/lib/python3.10/dist-packages/fairseq/models/fairseq_model.py\u001b[0m in \u001b[0;36mfrom_pretrained\u001b[0;34m(cls, model_name_or_path, checkpoint_file, data_name_or_path, **kwargs)\u001b[0m\n\u001b[1;32m    265\u001b[0m         \u001b[0;32mfrom\u001b[0m \u001b[0mfairseq\u001b[0m \u001b[0;32mimport\u001b[0m \u001b[0mhub_utils\u001b[0m\u001b[0;34m\u001b[0m\u001b[0;34m\u001b[0m\u001b[0m\n\u001b[1;32m    266\u001b[0m \u001b[0;34m\u001b[0m\u001b[0m\n\u001b[0;32m--> 267\u001b[0;31m         x = hub_utils.from_pretrained(\n\u001b[0m\u001b[1;32m    268\u001b[0m             \u001b[0mmodel_name_or_path\u001b[0m\u001b[0;34m,\u001b[0m\u001b[0;34m\u001b[0m\u001b[0;34m\u001b[0m\u001b[0m\n\u001b[1;32m    269\u001b[0m             \u001b[0mcheckpoint_file\u001b[0m\u001b[0;34m,\u001b[0m\u001b[0;34m\u001b[0m\u001b[0;34m\u001b[0m\u001b[0m\n",
            "\u001b[0;32m/usr/local/lib/python3.10/dist-packages/fairseq/hub_utils.py\u001b[0m in \u001b[0;36mfrom_pretrained\u001b[0;34m(model_name_or_path, checkpoint_file, data_name_or_path, archive_map, **kwargs)\u001b[0m\n\u001b[1;32m     71\u001b[0m         \u001b[0mutils\u001b[0m\u001b[0;34m.\u001b[0m\u001b[0mimport_user_module\u001b[0m\u001b[0;34m(\u001b[0m\u001b[0margparse\u001b[0m\u001b[0;34m.\u001b[0m\u001b[0mNamespace\u001b[0m\u001b[0;34m(\u001b[0m\u001b[0muser_dir\u001b[0m\u001b[0;34m=\u001b[0m\u001b[0mkwargs\u001b[0m\u001b[0;34m[\u001b[0m\u001b[0;34m\"user_dir\"\u001b[0m\u001b[0;34m]\u001b[0m\u001b[0;34m)\u001b[0m\u001b[0;34m)\u001b[0m\u001b[0;34m\u001b[0m\u001b[0;34m\u001b[0m\u001b[0m\n\u001b[1;32m     72\u001b[0m \u001b[0;34m\u001b[0m\u001b[0m\n\u001b[0;32m---> 73\u001b[0;31m     models, args, task = checkpoint_utils.load_model_ensemble_and_task(\n\u001b[0m\u001b[1;32m     74\u001b[0m         \u001b[0;34m[\u001b[0m\u001b[0mos\u001b[0m\u001b[0;34m.\u001b[0m\u001b[0mpath\u001b[0m\u001b[0;34m.\u001b[0m\u001b[0mjoin\u001b[0m\u001b[0;34m(\u001b[0m\u001b[0mmodel_path\u001b[0m\u001b[0;34m,\u001b[0m \u001b[0mcpt\u001b[0m\u001b[0;34m)\u001b[0m \u001b[0;32mfor\u001b[0m \u001b[0mcpt\u001b[0m \u001b[0;32min\u001b[0m \u001b[0mcheckpoint_file\u001b[0m\u001b[0;34m.\u001b[0m\u001b[0msplit\u001b[0m\u001b[0;34m(\u001b[0m\u001b[0mos\u001b[0m\u001b[0;34m.\u001b[0m\u001b[0mpathsep\u001b[0m\u001b[0;34m)\u001b[0m\u001b[0;34m]\u001b[0m\u001b[0;34m,\u001b[0m\u001b[0;34m\u001b[0m\u001b[0;34m\u001b[0m\u001b[0m\n\u001b[1;32m     75\u001b[0m         \u001b[0marg_overrides\u001b[0m\u001b[0;34m=\u001b[0m\u001b[0mkwargs\u001b[0m\u001b[0;34m,\u001b[0m\u001b[0;34m\u001b[0m\u001b[0;34m\u001b[0m\u001b[0m\n",
            "\u001b[0;32m/usr/local/lib/python3.10/dist-packages/fairseq/checkpoint_utils.py\u001b[0m in \u001b[0;36mload_model_ensemble_and_task\u001b[0;34m(filenames, arg_overrides, task, strict, suffix, num_shards, state)\u001b[0m\n\u001b[1;32m    434\u001b[0m \u001b[0;34m\u001b[0m\u001b[0m\n\u001b[1;32m    435\u001b[0m             \u001b[0;32mif\u001b[0m \u001b[0mtask\u001b[0m \u001b[0;32mis\u001b[0m \u001b[0;32mNone\u001b[0m\u001b[0;34m:\u001b[0m\u001b[0;34m\u001b[0m\u001b[0;34m\u001b[0m\u001b[0m\n\u001b[0;32m--> 436\u001b[0;31m                 \u001b[0mtask\u001b[0m \u001b[0;34m=\u001b[0m \u001b[0mtasks\u001b[0m\u001b[0;34m.\u001b[0m\u001b[0msetup_task\u001b[0m\u001b[0;34m(\u001b[0m\u001b[0mcfg\u001b[0m\u001b[0;34m.\u001b[0m\u001b[0mtask\u001b[0m\u001b[0;34m)\u001b[0m\u001b[0;34m\u001b[0m\u001b[0;34m\u001b[0m\u001b[0m\n\u001b[0m\u001b[1;32m    437\u001b[0m \u001b[0;34m\u001b[0m\u001b[0m\n\u001b[1;32m    438\u001b[0m             \u001b[0;32mif\u001b[0m \u001b[0;34m\"task_state\"\u001b[0m \u001b[0;32min\u001b[0m \u001b[0mstate\u001b[0m\u001b[0;34m:\u001b[0m\u001b[0;34m\u001b[0m\u001b[0;34m\u001b[0m\u001b[0m\n",
            "\u001b[0;32m/usr/local/lib/python3.10/dist-packages/fairseq/tasks/__init__.py\u001b[0m in \u001b[0;36msetup_task\u001b[0;34m(cfg, **kwargs)\u001b[0m\n\u001b[1;32m     44\u001b[0m     ), f\"Could not infer task type from {cfg}. Available argparse tasks: {TASK_REGISTRY.keys()}. Available hydra tasks: {TASK_DATACLASS_REGISTRY.keys()}\"\n\u001b[1;32m     45\u001b[0m \u001b[0;34m\u001b[0m\u001b[0m\n\u001b[0;32m---> 46\u001b[0;31m     \u001b[0;32mreturn\u001b[0m \u001b[0mtask\u001b[0m\u001b[0;34m.\u001b[0m\u001b[0msetup_task\u001b[0m\u001b[0;34m(\u001b[0m\u001b[0mcfg\u001b[0m\u001b[0;34m,\u001b[0m \u001b[0;34m**\u001b[0m\u001b[0mkwargs\u001b[0m\u001b[0;34m)\u001b[0m\u001b[0;34m\u001b[0m\u001b[0;34m\u001b[0m\u001b[0m\n\u001b[0m\u001b[1;32m     47\u001b[0m \u001b[0;34m\u001b[0m\u001b[0m\n\u001b[1;32m     48\u001b[0m \u001b[0;34m\u001b[0m\u001b[0m\n",
            "\u001b[0;32m/usr/local/lib/python3.10/dist-packages/fairseq/tasks/translation.py\u001b[0m in \u001b[0;36msetup_task\u001b[0;34m(cls, cfg, **kwargs)\u001b[0m\n\u001b[1;32m    295\u001b[0m         \"\"\"\n\u001b[1;32m    296\u001b[0m \u001b[0;34m\u001b[0m\u001b[0m\n\u001b[0;32m--> 297\u001b[0;31m         \u001b[0mpaths\u001b[0m \u001b[0;34m=\u001b[0m \u001b[0mutils\u001b[0m\u001b[0;34m.\u001b[0m\u001b[0msplit_paths\u001b[0m\u001b[0;34m(\u001b[0m\u001b[0mcfg\u001b[0m\u001b[0;34m.\u001b[0m\u001b[0mdata\u001b[0m\u001b[0;34m)\u001b[0m\u001b[0;34m\u001b[0m\u001b[0;34m\u001b[0m\u001b[0m\n\u001b[0m\u001b[1;32m    298\u001b[0m         \u001b[0;32massert\u001b[0m \u001b[0mlen\u001b[0m\u001b[0;34m(\u001b[0m\u001b[0mpaths\u001b[0m\u001b[0;34m)\u001b[0m \u001b[0;34m>\u001b[0m \u001b[0;36m0\u001b[0m\u001b[0;34m\u001b[0m\u001b[0;34m\u001b[0m\u001b[0m\n\u001b[1;32m    299\u001b[0m         \u001b[0;31m# find language pair automatically\u001b[0m\u001b[0;34m\u001b[0m\u001b[0;34m\u001b[0m\u001b[0m\n",
            "\u001b[0;32m/usr/local/lib/python3.10/dist-packages/fairseq/utils.py\u001b[0m in \u001b[0;36msplit_paths\u001b[0;34m(paths, separator)\u001b[0m\n\u001b[1;32m     61\u001b[0m \u001b[0;32mdef\u001b[0m \u001b[0msplit_paths\u001b[0m\u001b[0;34m(\u001b[0m\u001b[0mpaths\u001b[0m\u001b[0;34m:\u001b[0m \u001b[0mstr\u001b[0m\u001b[0;34m,\u001b[0m \u001b[0mseparator\u001b[0m\u001b[0;34m=\u001b[0m\u001b[0mos\u001b[0m\u001b[0;34m.\u001b[0m\u001b[0mpathsep\u001b[0m\u001b[0;34m)\u001b[0m \u001b[0;34m->\u001b[0m \u001b[0mList\u001b[0m\u001b[0;34m[\u001b[0m\u001b[0mstr\u001b[0m\u001b[0;34m]\u001b[0m\u001b[0;34m:\u001b[0m\u001b[0;34m\u001b[0m\u001b[0;34m\u001b[0m\u001b[0m\n\u001b[1;32m     62\u001b[0m     return (\n\u001b[0;32m---> 63\u001b[0;31m         \u001b[0mpaths\u001b[0m\u001b[0;34m.\u001b[0m\u001b[0msplit\u001b[0m\u001b[0;34m(\u001b[0m\u001b[0mseparator\u001b[0m\u001b[0;34m)\u001b[0m \u001b[0;32mif\u001b[0m \u001b[0;34m\"://\"\u001b[0m \u001b[0;32mnot\u001b[0m \u001b[0;32min\u001b[0m \u001b[0mpaths\u001b[0m \u001b[0;32melse\u001b[0m \u001b[0mpaths\u001b[0m\u001b[0;34m.\u001b[0m\u001b[0msplit\u001b[0m\u001b[0;34m(\u001b[0m\u001b[0mMANIFOLD_PATH_SEP\u001b[0m\u001b[0;34m)\u001b[0m\u001b[0;34m\u001b[0m\u001b[0;34m\u001b[0m\u001b[0m\n\u001b[0m\u001b[1;32m     64\u001b[0m     )\n\u001b[1;32m     65\u001b[0m \u001b[0;34m\u001b[0m\u001b[0m\n",
            "\u001b[0;31mTypeError\u001b[0m: argument of type 'NoneType' is not iterable"
          ]
        }
      ]
    },
    {
      "cell_type": "code",
      "source": [
        "from textblob import TextBlob\n",
        "\n",
        "blob = TextBlob(\n",
        "    \"It is a truth universally acknowledged, that a single man in possession of a good fortune, must be in want of a wife!\"\n",
        ")\n",
        "print(blob.translate(to=\"fr\"))"
      ],
      "metadata": {
        "colab": {
          "base_uri": "https://localhost:8080/",
          "height": 363
        },
        "id": "a2M2ujq7Pclp",
        "outputId": "821d565e-6bc2-42c2-f8dc-bb6e5b831ea9"
      },
      "execution_count": null,
      "outputs": [
        {
          "output_type": "error",
          "ename": "AttributeError",
          "evalue": "ignored",
          "traceback": [
            "\u001b[0;31m---------------------------------------------------------------------------\u001b[0m",
            "\u001b[0;31mAttributeError\u001b[0m                            Traceback (most recent call last)",
            "\u001b[0;32m<ipython-input-2-a524448b6273>\u001b[0m in \u001b[0;36m<cell line: 6>\u001b[0;34m()\u001b[0m\n\u001b[1;32m      4\u001b[0m     \u001b[0;34m\"It is a truth universally acknowledged, that a single man in possession of a good fortune, must be in want of a wife!\"\u001b[0m\u001b[0;34m\u001b[0m\u001b[0;34m\u001b[0m\u001b[0m\n\u001b[1;32m      5\u001b[0m )\n\u001b[0;32m----> 6\u001b[0;31m \u001b[0mprint\u001b[0m\u001b[0;34m(\u001b[0m\u001b[0mblob\u001b[0m\u001b[0;34m.\u001b[0m\u001b[0mtranslate\u001b[0m\u001b[0;34m(\u001b[0m\u001b[0mto\u001b[0m\u001b[0;34m=\u001b[0m\u001b[0;34m\"fr\"\u001b[0m\u001b[0;34m)\u001b[0m\u001b[0;34m)\u001b[0m\u001b[0;34m\u001b[0m\u001b[0;34m\u001b[0m\u001b[0m\n\u001b[0m",
            "\u001b[0;32m/usr/local/lib/python3.10/dist-packages/textblob/blob.py\u001b[0m in \u001b[0;36mtranslate\u001b[0;34m(self, from_lang, to)\u001b[0m\n\u001b[1;32m    566\u001b[0m             \u001b[0mDeprecationWarning\u001b[0m\u001b[0;34m\u001b[0m\u001b[0;34m\u001b[0m\u001b[0m\n\u001b[1;32m    567\u001b[0m         )\n\u001b[0;32m--> 568\u001b[0;31m         return self.__class__(self.translator.translate(self.raw,\n\u001b[0m\u001b[1;32m    569\u001b[0m                               from_lang=from_lang, to_lang=to))\n\u001b[1;32m    570\u001b[0m \u001b[0;34m\u001b[0m\u001b[0m\n",
            "\u001b[0;32m/usr/local/lib/python3.10/dist-packages/textblob/translate.py\u001b[0m in \u001b[0;36mtranslate\u001b[0;34m(self, source, from_lang, to_lang, host, type_)\u001b[0m\n\u001b[1;32m     59\u001b[0m             \u001b[0;32mexcept\u001b[0m \u001b[0mIndexError\u001b[0m\u001b[0;34m:\u001b[0m\u001b[0;34m\u001b[0m\u001b[0;34m\u001b[0m\u001b[0m\n\u001b[1;32m     60\u001b[0m                 \u001b[0;32mpass\u001b[0m\u001b[0;34m\u001b[0m\u001b[0;34m\u001b[0m\u001b[0m\n\u001b[0;32m---> 61\u001b[0;31m         \u001b[0mself\u001b[0m\u001b[0;34m.\u001b[0m\u001b[0m_validate_translation\u001b[0m\u001b[0;34m(\u001b[0m\u001b[0msource\u001b[0m\u001b[0;34m,\u001b[0m \u001b[0mresult\u001b[0m\u001b[0;34m)\u001b[0m\u001b[0;34m\u001b[0m\u001b[0;34m\u001b[0m\u001b[0m\n\u001b[0m\u001b[1;32m     62\u001b[0m         \u001b[0;32mreturn\u001b[0m \u001b[0mresult\u001b[0m\u001b[0;34m\u001b[0m\u001b[0;34m\u001b[0m\u001b[0m\n\u001b[1;32m     63\u001b[0m \u001b[0;34m\u001b[0m\u001b[0m\n",
            "\u001b[0;32m/usr/local/lib/python3.10/dist-packages/textblob/translate.py\u001b[0m in \u001b[0;36m_validate_translation\u001b[0;34m(self, source, result)\u001b[0m\n\u001b[1;32m     86\u001b[0m         \u001b[0;32mif\u001b[0m \u001b[0mPY2\u001b[0m\u001b[0;34m:\u001b[0m\u001b[0;34m\u001b[0m\u001b[0;34m\u001b[0m\u001b[0m\n\u001b[1;32m     87\u001b[0m             \u001b[0mresult\u001b[0m \u001b[0;34m=\u001b[0m \u001b[0mresult\u001b[0m\u001b[0;34m.\u001b[0m\u001b[0mencode\u001b[0m\u001b[0;34m(\u001b[0m\u001b[0;34m'utf-8'\u001b[0m\u001b[0;34m)\u001b[0m\u001b[0;34m\u001b[0m\u001b[0;34m\u001b[0m\u001b[0m\n\u001b[0;32m---> 88\u001b[0;31m         \u001b[0;32mif\u001b[0m \u001b[0mresult\u001b[0m\u001b[0;34m.\u001b[0m\u001b[0mstrip\u001b[0m\u001b[0;34m(\u001b[0m\u001b[0;34m)\u001b[0m \u001b[0;34m==\u001b[0m \u001b[0msource\u001b[0m\u001b[0;34m.\u001b[0m\u001b[0mstrip\u001b[0m\u001b[0;34m(\u001b[0m\u001b[0;34m)\u001b[0m\u001b[0;34m:\u001b[0m\u001b[0;34m\u001b[0m\u001b[0;34m\u001b[0m\u001b[0m\n\u001b[0m\u001b[1;32m     89\u001b[0m             \u001b[0;32mraise\u001b[0m \u001b[0mNotTranslated\u001b[0m\u001b[0;34m(\u001b[0m\u001b[0;34m'Translation API returned the input string unchanged.'\u001b[0m\u001b[0;34m)\u001b[0m\u001b[0;34m\u001b[0m\u001b[0;34m\u001b[0m\u001b[0m\n\u001b[1;32m     90\u001b[0m \u001b[0;34m\u001b[0m\u001b[0m\n",
            "\u001b[0;31mAttributeError\u001b[0m: 'list' object has no attribute 'strip'"
          ]
        }
      ]
    },
    {
      "cell_type": "code",
      "source": [
        "# !pip install tensor2tensor\n",
        "# !pip install marian\n",
        "# !pip install marian-client\n",
        "# !pip install --upgrade transformers\n",
        "# !pip uninstall transformers\n",
        "!pip install transformers\n",
        "!pip install sentencepiece\n",
        "!pip install --upgrade googletrans==4.0.0-rc1\n",
        "\n",
        "# !pip install --upgrade googletrans"
      ],
      "metadata": {
        "colab": {
          "base_uri": "https://localhost:8080/",
          "height": 922
        },
        "id": "LMLEmli-WGRR",
        "outputId": "1e5f1ad1-8761-4b37-8fb5-629020c1c5b0"
      },
      "execution_count": 8,
      "outputs": [
        {
          "output_type": "stream",
          "name": "stdout",
          "text": [
            "Looking in indexes: https://pypi.org/simple, https://us-python.pkg.dev/colab-wheels/public/simple/\n",
            "Requirement already satisfied: transformers in /usr/local/lib/python3.10/dist-packages (4.29.2)\n",
            "Requirement already satisfied: filelock in /usr/local/lib/python3.10/dist-packages (from transformers) (3.12.0)\n",
            "Requirement already satisfied: huggingface-hub<1.0,>=0.14.1 in /usr/local/lib/python3.10/dist-packages (from transformers) (0.15.1)\n",
            "Requirement already satisfied: numpy>=1.17 in /usr/local/lib/python3.10/dist-packages (from transformers) (1.22.4)\n",
            "Requirement already satisfied: packaging>=20.0 in /usr/local/lib/python3.10/dist-packages (from transformers) (23.1)\n",
            "Requirement already satisfied: pyyaml>=5.1 in /usr/local/lib/python3.10/dist-packages (from transformers) (6.0)\n",
            "Requirement already satisfied: regex!=2019.12.17 in /usr/local/lib/python3.10/dist-packages (from transformers) (2022.10.31)\n",
            "Requirement already satisfied: requests in /usr/local/lib/python3.10/dist-packages (from transformers) (2.27.1)\n",
            "Requirement already satisfied: tokenizers!=0.11.3,<0.14,>=0.11.1 in /usr/local/lib/python3.10/dist-packages (from transformers) (0.13.3)\n",
            "Requirement already satisfied: tqdm>=4.27 in /usr/local/lib/python3.10/dist-packages (from transformers) (4.65.0)\n",
            "Requirement already satisfied: fsspec in /usr/local/lib/python3.10/dist-packages (from huggingface-hub<1.0,>=0.14.1->transformers) (2023.4.0)\n",
            "Requirement already satisfied: typing-extensions>=3.7.4.3 in /usr/local/lib/python3.10/dist-packages (from huggingface-hub<1.0,>=0.14.1->transformers) (4.5.0)\n",
            "Requirement already satisfied: urllib3<1.27,>=1.21.1 in /usr/local/lib/python3.10/dist-packages (from requests->transformers) (1.26.15)\n",
            "Requirement already satisfied: certifi>=2017.4.17 in /usr/local/lib/python3.10/dist-packages (from requests->transformers) (2022.12.7)\n",
            "Requirement already satisfied: charset-normalizer~=2.0.0 in /usr/local/lib/python3.10/dist-packages (from requests->transformers) (2.0.12)\n",
            "Requirement already satisfied: idna<4,>=2.5 in /usr/local/lib/python3.10/dist-packages (from requests->transformers) (2.10)\n",
            "Looking in indexes: https://pypi.org/simple, https://us-python.pkg.dev/colab-wheels/public/simple/\n",
            "Requirement already satisfied: sentencepiece in /usr/local/lib/python3.10/dist-packages (0.1.99)\n",
            "Looking in indexes: https://pypi.org/simple, https://us-python.pkg.dev/colab-wheels/public/simple/\n",
            "Collecting googletrans==4.0.0-rc1\n",
            "  Downloading googletrans-4.0.0rc1.tar.gz (20 kB)\n",
            "  Preparing metadata (setup.py) ... \u001b[?25l\u001b[?25hdone\n",
            "Requirement already satisfied: httpx==0.13.3 in /usr/local/lib/python3.10/dist-packages (from googletrans==4.0.0-rc1) (0.13.3)\n",
            "Requirement already satisfied: certifi in /usr/local/lib/python3.10/dist-packages (from httpx==0.13.3->googletrans==4.0.0-rc1) (2022.12.7)\n",
            "Requirement already satisfied: hstspreload in /usr/local/lib/python3.10/dist-packages (from httpx==0.13.3->googletrans==4.0.0-rc1) (2023.1.1)\n",
            "Requirement already satisfied: sniffio in /usr/local/lib/python3.10/dist-packages (from httpx==0.13.3->googletrans==4.0.0-rc1) (1.3.0)\n",
            "Requirement already satisfied: chardet==3.* in /usr/local/lib/python3.10/dist-packages (from httpx==0.13.3->googletrans==4.0.0-rc1) (3.0.4)\n",
            "Requirement already satisfied: idna==2.* in /usr/local/lib/python3.10/dist-packages (from httpx==0.13.3->googletrans==4.0.0-rc1) (2.10)\n",
            "Requirement already satisfied: rfc3986<2,>=1.3 in /usr/local/lib/python3.10/dist-packages (from httpx==0.13.3->googletrans==4.0.0-rc1) (1.5.0)\n",
            "Requirement already satisfied: httpcore==0.9.* in /usr/local/lib/python3.10/dist-packages (from httpx==0.13.3->googletrans==4.0.0-rc1) (0.9.1)\n",
            "Requirement already satisfied: h11<0.10,>=0.8 in /usr/local/lib/python3.10/dist-packages (from httpcore==0.9.*->httpx==0.13.3->googletrans==4.0.0-rc1) (0.9.0)\n",
            "Requirement already satisfied: h2==3.* in /usr/local/lib/python3.10/dist-packages (from httpcore==0.9.*->httpx==0.13.3->googletrans==4.0.0-rc1) (3.2.0)\n",
            "Requirement already satisfied: hyperframe<6,>=5.2.0 in /usr/local/lib/python3.10/dist-packages (from h2==3.*->httpcore==0.9.*->httpx==0.13.3->googletrans==4.0.0-rc1) (5.2.0)\n",
            "Requirement already satisfied: hpack<4,>=3.0 in /usr/local/lib/python3.10/dist-packages (from h2==3.*->httpcore==0.9.*->httpx==0.13.3->googletrans==4.0.0-rc1) (3.0.0)\n",
            "Building wheels for collected packages: googletrans\n",
            "  Building wheel for googletrans (setup.py) ... \u001b[?25l\u001b[?25hdone\n",
            "  Created wheel for googletrans: filename=googletrans-4.0.0rc1-py3-none-any.whl size=17397 sha256=817a98d8db11f6517cdb4148a5291ff0529d2e8f5c94b79b360ff91e9e58c336\n",
            "  Stored in directory: /root/.cache/pip/wheels/c0/59/9f/7372f0cf70160fe61b528532e1a7c8498c4becd6bcffb022de\n",
            "Successfully built googletrans\n",
            "Installing collected packages: googletrans\n",
            "  Attempting uninstall: googletrans\n",
            "    Found existing installation: googletrans 3.0.0\n",
            "    Uninstalling googletrans-3.0.0:\n",
            "      Successfully uninstalled googletrans-3.0.0\n",
            "Successfully installed googletrans-4.0.0rc1\n"
          ]
        },
        {
          "output_type": "display_data",
          "data": {
            "application/vnd.colab-display-data+json": {
              "pip_warning": {
                "packages": [
                  "googletrans"
                ]
              }
            }
          },
          "metadata": {}
        }
      ]
    },
    {
      "cell_type": "code",
      "source": [
        "from transformers import MarianMTModel, MarianTokenizer\n",
        "\n",
        "def translate_text(text, src_lang=\"en\", tgt_lang=\"hi\"):\n",
        "    model_name = f'Helsinki-NLP/opus-mt-{src_lang}-{tgt_lang}'\n",
        "    tokenizer = MarianTokenizer.from_pretrained(model_name)\n",
        "    model = MarianMTModel.from_pretrained(model_name)\n",
        "\n",
        "    # Tokenize the input text\n",
        "    input_tokens = tokenizer(text, return_tensors=\"pt\")\n",
        "\n",
        "    # Generate the translation\n",
        "    translated_tokens = model.generate(**input_tokens)\n",
        "\n",
        "    # Decode the translated tokens\n",
        "    translated_text = tokenizer.decode(translated_tokens[0], skip_special_tokens=True)\n",
        "\n",
        "    return translated_text\n",
        "\n",
        "if __name__ == \"__main__\":\n",
        "    # input_text = \"Hello,my name is nani is your name also nani and  how are you?\"\n",
        "    input_text = \"Hello, how are you?\"\n",
        "    translated_text = translate_text(input_text)\n",
        "    print(f\"Original text: {input_text}\")\n",
        "    print(f\"Translated text: {translated_text}\")\n"
      ],
      "metadata": {
        "colab": {
          "base_uri": "https://localhost:8080/"
        },
        "id": "yiLjQWlPPdD5",
        "outputId": "b10e2252-5b97-49d3-ee4a-cddc2ec558f6"
      },
      "execution_count": 1,
      "outputs": [
        {
          "output_type": "stream",
          "name": "stderr",
          "text": [
            "/usr/local/lib/python3.10/dist-packages/transformers/models/marian/tokenization_marian.py:194: UserWarning: Recommended: pip install sacremoses.\n",
            "  warnings.warn(\"Recommended: pip install sacremoses.\")\n",
            "/usr/local/lib/python3.10/dist-packages/transformers/generation/utils.py:1346: UserWarning: Using `max_length`'s default (512) to control the generation length. This behaviour is deprecated and will be removed from the config in v5 of Transformers -- we recommend using `max_new_tokens` to control the maximum length of the generation.\n",
            "  warnings.warn(\n"
          ]
        },
        {
          "output_type": "stream",
          "name": "stdout",
          "text": [
            "Original text: Hello, how are you?\n",
            "Translated text: हैलो, तुम कैसे हो?\n"
          ]
        }
      ]
    },
    {
      "cell_type": "code",
      "source": [
        "if __name__ == \"__main__\":\n",
        "    input_text = \"Bonalu is a significant Hindu festival that is celebrated in the southern state of Telangana, India. The festival is dedicated to the worship of the mother goddess, Mahakali, who is believed to protect the people from evil forces. Bonalu is celebrated in the month of Ashada, which falls between July and August. The festival is a symbol of cultural heritage and religious harmony and is celebrated with great enthusiasm by people from all walks of life.\"\n",
        "    translated_text = translate_text(input_text)\n",
        "    print(f\"Original text: {input_text}\")\n",
        "    print(f\"Translated text: {translated_text}\")"
      ],
      "metadata": {
        "colab": {
          "base_uri": "https://localhost:8080/"
        },
        "id": "ZNtNlTGAa2N3",
        "outputId": "0c8678b8-6c65-4bd6-941c-d4094515074b"
      },
      "execution_count": 2,
      "outputs": [
        {
          "output_type": "stream",
          "name": "stderr",
          "text": [
            "/usr/local/lib/python3.10/dist-packages/transformers/models/marian/tokenization_marian.py:194: UserWarning: Recommended: pip install sacremoses.\n",
            "  warnings.warn(\"Recommended: pip install sacremoses.\")\n",
            "/usr/local/lib/python3.10/dist-packages/transformers/generation/utils.py:1346: UserWarning: Using `max_length`'s default (512) to control the generation length. This behaviour is deprecated and will be removed from the config in v5 of Transformers -- we recommend using `max_new_tokens` to control the maximum length of the generation.\n",
            "  warnings.warn(\n"
          ]
        },
        {
          "output_type": "stream",
          "name": "stdout",
          "text": [
            "Original text: Bonalu is a significant Hindu festival that is celebrated in the southern state of Telangana, India. The festival is dedicated to the worship of the mother goddess, Mahakali, who is believed to protect the people from evil forces. Bonalu is celebrated in the month of Ashada, which falls between July and August. The festival is a symbol of cultural heritage and religious harmony and is celebrated with great enthusiasm by people from all walks of life.\n",
            "Translated text: बाल देवता की उपासना करने का पर्व, भारत के तेलगाना राज्य के दक्षिणी राज्य में मनाया जाता है ।\n"
          ]
        }
      ]
    },
    {
      "cell_type": "code",
      "source": [],
      "metadata": {
        "id": "4rNVYoYxWAjh"
      },
      "execution_count": 2,
      "outputs": []
    },
    {
      "cell_type": "code",
      "source": [
        "from transformers import MarianMTModel, MarianTokenizer\n",
        "\n",
        "def translate_file(file_path, src_lang=\"en\", tgt_lang=\"hi\"):\n",
        "    model_name = f'Helsinki-NLP/opus-mt-{src_lang}-{tgt_lang}'\n",
        "    tokenizer = MarianTokenizer.from_pretrained(model_name)\n",
        "    model = MarianMTModel.from_pretrained(model_name)\n",
        "\n",
        "    # Read file contents\n",
        "    with open(file_path, 'r') as f:\n",
        "        text = f.read()\n",
        "\n",
        "    # Split the text into smaller segments\n",
        "    max_length = model.config.max_position_embeddings - 2  # Account for special tokens\n",
        "    segments = [text[i:i + max_length] for i in range(0, len(text), max_length)]\n",
        "\n",
        "    # Initialize translated text\n",
        "    translated_text = \"\"\n",
        "\n",
        "    # Translate each segment\n",
        "    for segment in segments:\n",
        "        # Tokenize the segment\n",
        "        input_tokens = tokenizer(segment, return_tensors=\"pt\")\n",
        "\n",
        "        # Generate the translation\n",
        "        translated_tokens = model.generate(**input_tokens)\n",
        "\n",
        "        # Decode the translated tokens\n",
        "        segment_translation = tokenizer.decode(translated_tokens[0], skip_special_tokens=True)\n",
        "\n",
        "        # Append segment translation to the overall translation\n",
        "        translated_text += segment_translation\n",
        "\n",
        "    return translated_text\n",
        "\n",
        "# if __name__ == \"__main__\":\n",
        "#     file_path = \"/path/to/input/file.txt\"\n",
        "#     translated_text = translate_file(file_path)\n",
        "#     print(f\"Translated text:\\n{translated_text}\")\n",
        "\n",
        "if __name__ == \"__main__\":\n",
        "    file_path = \"/content/bonalufestival(1).txt\"\n",
        "    translated_text = translate_file(file_path)\n",
        "    print(f\"Translated text:\\n{translated_text}\")\n"
      ],
      "metadata": {
        "id": "hA9LmCREaCXg",
        "colab": {
          "base_uri": "https://localhost:8080/"
        },
        "outputId": "3032f53f-a3b6-4f93-a36c-90722031f2cd"
      },
      "execution_count": 3,
      "outputs": [
        {
          "output_type": "stream",
          "name": "stdout",
          "text": [
            "Translated text:\n",
            "बाल देवता की उपासना करने के लिए धार्मिक त्योहार, भारत के दक्षिण राज्य में मनाया जाता है। इस पर्व को माता देवी देवी, महलाली के लिए समर्पित किया जाता है, जो लोगों को दुष्ट शक्‍तियों से सुरक्षित रखने के लिए माना जाता है। ब्बला के महीने में, जो जुलाई और अगस्त के बीच आता है ।44 शहर, जहां यह Hakakia राजवंश द्वारा मनाया गया था. माना जाता है कि पर्ब्ब 12वीं सदी में कातर्टिया वंश के शासन के दौरान शुरू हो गया है। कथा के अनुसार, देवी महल महल महला ने राजा के लिए एक सपना देखा और उससे कहा कि लोगों को एक घातक महामारी से बचाने के लिए Baphroual के राजा की रक्षा करने के लिए।जो स्त्रियाँ मिट्टी के बर्तन ले जा रही हैं, चावल, दालेंदार, और पानी से भरे हुए, नीम के पत्तों से सजाया जाता है, और पानी से सजाया जाता है. बर्तन सिर पर ले जाते हैं, और स्त्रियों को ढोल बजाने, देवी के लिए बलि बनाने के लिए नृत्य किया जाता है. बाद में इन्हें लोगों के बीच एक महत्त्वपूर्ण त्योहार के रूप में वितरित किया जाता है.आम तौर पर लोगों को प्रचार करने में हिस्सा लेने में बड़ी भूमिका निभाई है । इस पर्व ने तेलानाना की बढ़िया सांस्कृतिक विरासत को बढ़ावा दिया है ।उत्सव में स्थानीय उत्पादनों का प्रयोग करने और स्थानीय कलापूर्ण कारीगरों और कारीगरों को दिखाने का एक अवसर भी प्रदान करता है ।इस पर्व ने एक राज्य उत्सव के रूप में घोषित किया है और ऐसे समुदायों को आर्थिक सहायता प्रदान की है जो उत्सव मनाते हैं ।इस पर्व का अर्थ है कि स्त्रियों को एक साथ आने और उनकी स्त्रीपन को बढ़ावा देने का अवसर मिलता है ।\n"
          ]
        }
      ]
    },
    {
      "cell_type": "code",
      "source": [
        "from googletrans import Translator\n",
        "\n",
        "def translate_file(file_path, src_lang=\"en\", tgt_lang=\"hi\"):\n",
        "    translator = Translator()\n",
        "\n",
        "    # Read file contents\n",
        "    with open(file_path, 'r') as f:\n",
        "        text = f.read()\n",
        "\n",
        "    # Translate the text\n",
        "    translated_text = translator.translate(text, src=src_lang, dest=tgt_lang).text\n",
        "\n",
        "    return translated_text\n",
        "\n",
        "if __name__ == \"__main__\":\n",
        "    file_path = \"/content/bonalufestival(1).txt\"\n",
        "    translated_text = translate_file(file_path)\n",
        "    print(f\"Translated text:\\n{translated_text}\")\n"
      ],
      "metadata": {
        "colab": {
          "base_uri": "https://localhost:8080/"
        },
        "id": "4GIoZfnlGeN8",
        "outputId": "d2ea69c6-0d4b-47f3-f50a-668567717d5f"
      },
      "execution_count": 4,
      "outputs": [
        {
          "output_type": "stream",
          "name": "stdout",
          "text": [
            "Translated text:\n",
            "बोनालु एक महत्वपूर्ण हिंदू त्योहार है जो दक्षिणी राज्य तेलंगाना, भारत में मनाया जाता है।यह त्योहार माँ देवी, महाकली की पूजा के लिए समर्पित है, जो लोगों को बुरी ताकतों से बचाने के लिए माना जाता है।बोनालु को अशादा के महीने में मनाया जाता है, जो जुलाई और अगस्त के बीच आता है।त्योहार सांस्कृतिक विरासत और धार्मिक सद्भाव का प्रतीक है और जीवन के सभी क्षेत्रों के लोगों द्वारा बड़े उत्साह के साथ मनाया जाता है।\n",
            "\n",
            "बोनालु के त्योहार की उत्पत्ति प्राचीन शहर हैदराबाद में है, जहां इसे चालुक्य राजवंश द्वारा मनाया गया था।माना जाता है कि यह त्योहार 12 वीं शताब्दी में काकती राजवंश के शासनकाल के दौरान शुरू हुआ था।किंवदंती के अनुसार, देवी महाकाली राजा के एक सपने में दिखाई दी और उन्हें लोगों को एक घातक महामारी से बचाने के लिए बोनालु उत्सव करने के लिए कहा।राजा ने देवी के निर्देशों का पालन किया और त्योहार का प्रदर्शन किया, जो अभी भी तेलंगाना में बड़े उत्साह के साथ मनाया जाता है।\n",
            "\n",
            "बोनालु उत्सव उन महिलाओं द्वारा मनाया जाता है जो चावल, गुड़, दही और पानी से भरे मिट्टी के बर्तन ले जाते हैं, नीम के पत्तों, हल्दी और सिंदूर से सजाया जाता है।बर्तन को सिर पर ले जाया जाता है, और महिलाएं ड्रमों की धड़कन पर नृत्य करती हैं, जिससे देवी को प्रसाद होता है।बाद में प्रसाद को लोगों के बीच प्रसाद के रूप में वितरित किया जाता है।\n",
            "\n",
            "बोनलु उत्सव का एक महत्वपूर्ण सामाजिक प्रभाव भी है।त्योहार महिलाओं को एक साथ आने और अपनी नारीत्व का जश्न मनाने का अवसर प्रदान करता है।यह त्योहार लैंगिक समानता को भी बढ़ावा देता है और महिलाओं को सार्वजनिक जीवन में भाग लेने के लिए सशक्त बनाता है।त्योहार ने तेलंगाना की समृद्ध सांस्कृतिक विरासत को संरक्षित करने और बढ़ावा देने में महत्वपूर्ण भूमिका निभाई है।\n",
            "\n",
            "बोनालु महोत्सव तेलंगाना राष्ट्र समिथी (टीआरएस) राजनीतिक पार्टी से भी जुड़ा हुआ है।टीआरएस पार्टी त्योहार को पुनर्जीवित करने और बढ़ावा देने में महत्वपूर्ण भूमिका निभाई है, जिसने निज़ाम युग के दौरान अपना महत्व खो दिया था।टीआरएस पार्टी ने त्योहार का उपयोग लोगों के साथ जुड़ने और इसके राजनीतिक एजेंडे को बढ़ावा देने के लिए एक मंच के रूप में भी किया है।\n",
            "\n",
            "बोनालु उत्सव का तेलंगाना की अर्थव्यवस्था पर भी महत्वपूर्ण प्रभाव पड़ता है।त्योहार स्थानीय उत्पादों के उपयोग को बढ़ावा देता है और स्थानीय कारीगरों और शिल्पकारों को अपनी प्रतिभा का प्रदर्शन करने का अवसर प्रदान करता है।यह त्योहार दुनिया भर के पर्यटकों को भी आकर्षित करता है, जो तेलंगाना की जीवंत संस्कृति का अनुभव करते हैं।\n",
            "\n",
            "तेलंगाना की सरकार ने बोनालु त्योहार के सांस्कृतिक और आर्थिक महत्व को भी मान्यता दी है और त्योहार को बढ़ावा देने और संरक्षित करने के लिए कई कदम उठाए हैं।सरकार ने त्योहार को राज्य समारोह के रूप में घोषित किया है और त्योहार का जश्न मनाने वाले समुदायों को वित्तीय सहायता प्रदान की है।सरकार ने त्योहार के दौरान पर्यटन को बढ़ावा देने के लिए भी कदम उठाए हैं और त्योहार के दौरान तेलंगाना का दौरा करने के लिए दुनिया भर के लोगों को प्रोत्साहित किया है।\n",
            "\n",
            "अंत में, बोनालु त्योहार एक जीवंत और रंगीन त्योहार है जो माँ देवी, महाकली की पूजा का जश्न मनाता है।त्योहार में गहन सांस्कृतिक और धार्मिक महत्व है और स्थानीय उत्पादों के उपयोग को बढ़ावा देता है।त्योहार महिलाओं को एक साथ आने और अपनी नारीत्व का जश्न मनाने और लैंगिक समानता को बढ़ावा देने का अवसर प्रदान करता है।त्योहार का तेलंगाना की अर्थव्यवस्था पर महत्वपूर्ण प्रभाव पड़ता है और तेलंगाना की समृद्ध सांस्कृतिक विरासत को संरक्षित करने और बढ़ावा देने में महत्वपूर्ण भूमिका निभाई है।बोनालु उत्सव सांस्कृतिक विरासत और धार्मिक सद्भाव का प्रतीक है और जीवन के सभी क्षेत्रों के लोगों द्वारा बड़े उत्साह के साथ मनाया जाता है।\n"
          ]
        }
      ]
    },
    {
      "cell_type": "code",
      "source": [],
      "metadata": {
        "colab": {
          "base_uri": "https://localhost:8080/"
        },
        "id": "L7WYu-dUPoor",
        "outputId": "8d19e253-9688-4735-dbe6-fdb964cdeef3"
      },
      "execution_count": 24,
      "outputs": [
        {
          "output_type": "stream",
          "name": "stdout",
          "text": [
            "Looking in indexes: https://pypi.org/simple, https://us-python.pkg.dev/colab-wheels/public/simple/\n",
            "Requirement already satisfied: googletrans in /usr/local/lib/python3.10/dist-packages (4.0.0rc1)\n",
            "Requirement already satisfied: httpx==0.13.3 in /usr/local/lib/python3.10/dist-packages (from googletrans) (0.13.3)\n",
            "Requirement already satisfied: certifi in /usr/local/lib/python3.10/dist-packages (from httpx==0.13.3->googletrans) (2022.12.7)\n",
            "Requirement already satisfied: hstspreload in /usr/local/lib/python3.10/dist-packages (from httpx==0.13.3->googletrans) (2023.1.1)\n",
            "Requirement already satisfied: sniffio in /usr/local/lib/python3.10/dist-packages (from httpx==0.13.3->googletrans) (1.3.0)\n",
            "Requirement already satisfied: chardet==3.* in /usr/local/lib/python3.10/dist-packages (from httpx==0.13.3->googletrans) (3.0.4)\n",
            "Requirement already satisfied: idna==2.* in /usr/local/lib/python3.10/dist-packages (from httpx==0.13.3->googletrans) (2.10)\n",
            "Requirement already satisfied: rfc3986<2,>=1.3 in /usr/local/lib/python3.10/dist-packages (from httpx==0.13.3->googletrans) (1.5.0)\n",
            "Requirement already satisfied: httpcore==0.9.* in /usr/local/lib/python3.10/dist-packages (from httpx==0.13.3->googletrans) (0.9.1)\n",
            "Requirement already satisfied: h11<0.10,>=0.8 in /usr/local/lib/python3.10/dist-packages (from httpcore==0.9.*->httpx==0.13.3->googletrans) (0.9.0)\n",
            "Requirement already satisfied: h2==3.* in /usr/local/lib/python3.10/dist-packages (from httpcore==0.9.*->httpx==0.13.3->googletrans) (3.2.0)\n",
            "Requirement already satisfied: hyperframe<6,>=5.2.0 in /usr/local/lib/python3.10/dist-packages (from h2==3.*->httpcore==0.9.*->httpx==0.13.3->googletrans) (5.2.0)\n",
            "Requirement already satisfied: hpack<4,>=3.0 in /usr/local/lib/python3.10/dist-packages (from h2==3.*->httpcore==0.9.*->httpx==0.13.3->googletrans) (3.0.0)\n"
          ]
        }
      ]
    },
    {
      "cell_type": "code",
      "source": [
        "from googletrans import Translator\n",
        "\n",
        "def translate_file(file_path, src_lang=\"en\", tgt_lang=\"hi\"):\n",
        "    translator = Translator()\n",
        "\n",
        "    # Read file contents\n",
        "    with open(file_path, 'r') as f:\n",
        "        text = f.read()\n",
        "\n",
        "    try:\n",
        "        # Translate the text\n",
        "        translated_text = translator.translate(text, src=src_lang, dest=tgt_lang).text\n",
        "    except Exception as e:\n",
        "        print(\"Translation error:\", str(e))\n",
        "        return None\n",
        "\n",
        "    return translated_text\n",
        "\n",
        "def save_to_file(file_path, content):\n",
        "    with open(file_path, 'w') as f:\n",
        "        f.write(content)\n",
        "\n",
        "if __name__ == \"__main__\":\n",
        "    input_file_path = \"/content/bonalufestival(1).txt\"\n",
        "    output_file_path = \"/content/translated_file.txt\"\n",
        "    \n",
        "    translated_text = translate_file(input_file_path)\n",
        "    \n",
        "    if translated_text is not None:\n",
        "        save_to_file(output_file_path, translated_text)\n",
        "        print(f\"Translated text saved to: {output_file_path}\")\n",
        "        print(f\"Translated text:\\n{translated_text}\")\n",
        "    else:\n",
        "        print(\"Translation failed. Please check the error message.\")\n"
      ],
      "metadata": {
        "colab": {
          "base_uri": "https://localhost:8080/"
        },
        "id": "etLx9pdaK8K8",
        "outputId": "2cfe7981-1b23-4d1f-aac7-d5e97a653ac7"
      },
      "execution_count": 6,
      "outputs": [
        {
          "output_type": "stream",
          "name": "stdout",
          "text": [
            "Translated text saved to: /content/translated_file.txt\n",
            "Translated text:\n",
            "बोनालु एक महत्वपूर्ण हिंदू त्योहार है जो दक्षिणी राज्य तेलंगाना, भारत में मनाया जाता है।यह त्योहार माँ देवी, महाकली की पूजा के लिए समर्पित है, जो लोगों को बुरी ताकतों से बचाने के लिए माना जाता है।बोनालु को अशादा के महीने में मनाया जाता है, जो जुलाई और अगस्त के बीच आता है।त्योहार सांस्कृतिक विरासत और धार्मिक सद्भाव का प्रतीक है और जीवन के सभी क्षेत्रों के लोगों द्वारा बड़े उत्साह के साथ मनाया जाता है।\n",
            "\n",
            "बोनालु के त्योहार की उत्पत्ति प्राचीन शहर हैदराबाद में है, जहां इसे चालुक्य राजवंश द्वारा मनाया गया था।माना जाता है कि यह त्योहार 12 वीं शताब्दी में काकती राजवंश के शासनकाल के दौरान शुरू हुआ था।किंवदंती के अनुसार, देवी महाकाली राजा के एक सपने में दिखाई दी और उन्हें लोगों को एक घातक महामारी से बचाने के लिए बोनालु उत्सव करने के लिए कहा।राजा ने देवी के निर्देशों का पालन किया और त्योहार का प्रदर्शन किया, जो अभी भी तेलंगाना में बड़े उत्साह के साथ मनाया जाता है।\n",
            "\n",
            "बोनालु उत्सव उन महिलाओं द्वारा मनाया जाता है जो चावल, गुड़, दही और पानी से भरे मिट्टी के बर्तन ले जाते हैं, नीम के पत्तों, हल्दी और सिंदूर से सजाया जाता है।बर्तन को सिर पर ले जाया जाता है, और महिलाएं ड्रमों की धड़कन पर नृत्य करती हैं, जिससे देवी को प्रसाद होता है।बाद में प्रसाद को लोगों के बीच प्रसाद के रूप में वितरित किया जाता है।\n",
            "\n",
            "बोनलु उत्सव का एक महत्वपूर्ण सामाजिक प्रभाव भी है।त्योहार महिलाओं को एक साथ आने और अपनी नारीत्व का जश्न मनाने का अवसर प्रदान करता है।यह त्योहार लैंगिक समानता को भी बढ़ावा देता है और महिलाओं को सार्वजनिक जीवन में भाग लेने के लिए सशक्त बनाता है।त्योहार ने तेलंगाना की समृद्ध सांस्कृतिक विरासत को संरक्षित करने और बढ़ावा देने में महत्वपूर्ण भूमिका निभाई है।\n",
            "\n",
            "बोनालु महोत्सव तेलंगाना राष्ट्र समिथी (टीआरएस) राजनीतिक पार्टी से भी जुड़ा हुआ है।टीआरएस पार्टी त्योहार को पुनर्जीवित करने और बढ़ावा देने में महत्वपूर्ण भूमिका निभाई है, जिसने निज़ाम युग के दौरान अपना महत्व खो दिया था।टीआरएस पार्टी ने त्योहार का उपयोग लोगों के साथ जुड़ने और इसके राजनीतिक एजेंडे को बढ़ावा देने के लिए एक मंच के रूप में भी किया है।\n",
            "\n",
            "बोनालु उत्सव का तेलंगाना की अर्थव्यवस्था पर भी महत्वपूर्ण प्रभाव पड़ता है।त्योहार स्थानीय उत्पादों के उपयोग को बढ़ावा देता है और स्थानीय कारीगरों और शिल्पकारों को अपनी प्रतिभा का प्रदर्शन करने का अवसर प्रदान करता है।यह त्योहार दुनिया भर के पर्यटकों को भी आकर्षित करता है, जो तेलंगाना की जीवंत संस्कृति का अनुभव करते हैं।\n",
            "\n",
            "तेलंगाना की सरकार ने बोनालु त्योहार के सांस्कृतिक और आर्थिक महत्व को भी मान्यता दी है और त्योहार को बढ़ावा देने और संरक्षित करने के लिए कई कदम उठाए हैं।सरकार ने त्योहार को राज्य समारोह के रूप में घोषित किया है और त्योहार का जश्न मनाने वाले समुदायों को वित्तीय सहायता प्रदान की है।सरकार ने त्योहार के दौरान पर्यटन को बढ़ावा देने के लिए भी कदम उठाए हैं और त्योहार के दौरान तेलंगाना का दौरा करने के लिए दुनिया भर के लोगों को प्रोत्साहित किया है।\n",
            "\n",
            "अंत में, बोनालु त्योहार एक जीवंत और रंगीन त्योहार है जो माँ देवी, महाकली की पूजा का जश्न मनाता है।त्योहार में गहन सांस्कृतिक और धार्मिक महत्व है और स्थानीय उत्पादों के उपयोग को बढ़ावा देता है।त्योहार महिलाओं को एक साथ आने और अपनी नारीत्व का जश्न मनाने और लैंगिक समानता को बढ़ावा देने का अवसर प्रदान करता है।त्योहार का तेलंगाना की अर्थव्यवस्था पर महत्वपूर्ण प्रभाव पड़ता है और तेलंगाना की समृद्ध सांस्कृतिक विरासत को संरक्षित करने और बढ़ावा देने में महत्वपूर्ण भूमिका निभाई है।बोनालु उत्सव सांस्कृतिक विरासत और धार्मिक सद्भाव का प्रतीक है और जीवन के सभी क्षेत्रों के लोगों द्वारा बड़े उत्साह के साथ मनाया जाता है।\n"
          ]
        }
      ]
    },
    {
      "cell_type": "code",
      "source": [
        "from googletrans import Translator\n",
        "import textwrap\n",
        "\n",
        "def translate_file(file_path, src_lang=\"en\", tgt_lang=\"hi\"):\n",
        "    translator = Translator()\n",
        "\n",
        "    # Read file contents\n",
        "    with open(file_path, 'r') as f:\n",
        "        text = f.read()\n",
        "\n",
        "    # Split the text into smaller chunks\n",
        "    max_chunk_size = 4000\n",
        "    text_chunks = textwrap.wrap(text, max_chunk_size)\n",
        "\n",
        "    translated_text = \"\"\n",
        "    try:\n",
        "        # Translate the text chunks\n",
        "        for chunk in text_chunks:\n",
        "            translated_chunk = translator.translate(chunk, src=src_lang, dest=tgt_lang).text\n",
        "            translated_text += translated_chunk + \"\\n\"  # Add line break at the end of each translated chunk\n",
        "\n",
        "    except Exception as e:\n",
        "        print(\"Translation error:\", str(e))\n",
        "        return None\n",
        "\n",
        "    return translated_text\n",
        "\n",
        "\n",
        "def save_to_file(file_path, content):\n",
        "    with open(file_path, 'w') as f:\n",
        "        f.write(content)\n",
        "\n",
        "\n",
        "if __name__ == \"__main__\":\n",
        "    input_file_path = \"/content/bonalufestival.txt\"\n",
        "    output_file_path = \"/content/translated_file.txt\"\n",
        "\n",
        "    translated_text = translate_file(input_file_path)\n",
        "\n",
        "    if translated_text is not None:\n",
        "        save_to_file(output_file_path, translated_text)\n",
        "        print(f\"Translated text saved to: {output_file_path}\")\n",
        "        print(f\"Translated text:\\n{translated_text}\")\n",
        "    else:\n",
        "        print(\"Translation failed. Please check the error message\", str(e))\n"
      ],
      "metadata": {
        "colab": {
          "base_uri": "https://localhost:8080/"
        },
        "id": "Thry8aAbPTPS",
        "outputId": "b7e6791d-e8bc-4348-903b-c342e7ef10ed"
      },
      "execution_count": 16,
      "outputs": [
        {
          "output_type": "stream",
          "name": "stdout",
          "text": [
            "Translated text saved to: /content/translated_file.txt\n",
            "Translated text:\n",
            "बोनालु एक महत्वपूर्ण हिंदू त्योहार है जो दक्षिणी राज्य तेलंगाना, भारत में मनाया जाता है।यह त्योहार माँ देवी, महाकली की पूजा के लिए समर्पित है, जो लोगों को बुरी ताकतों से बचाने के लिए माना जाता है।बोनालु को अशादा के महीने में मनाया जाता है, जो जुलाई और अगस्त के बीच आता है।त्योहार सांस्कृतिक विरासत और धार्मिक सद्भाव का प्रतीक है और जीवन के सभी क्षेत्रों के लोगों द्वारा बड़े उत्साह के साथ मनाया जाता है।बोनालु के त्योहार की उत्पत्ति प्राचीन शहर हैदराबाद में है, जहां इसे चालुक्य राजवंश द्वारा मनाया गया था।माना जाता है कि यह त्योहार 12 वीं शताब्दी में काकती राजवंश के शासनकाल के दौरान शुरू हुआ था।किंवदंती के अनुसार, देवी महाकाली राजा के एक सपने में दिखाई दी और उन्हें लोगों को एक घातक महामारी से बचाने के लिए बोनालु उत्सव करने के लिए कहा।राजा ने देवी के निर्देशों का पालन किया और त्योहार का प्रदर्शन किया, जो अभी भी तेलंगाना में बड़े उत्साह के साथ मनाया जाता है।बोनालु उत्सव उन महिलाओं द्वारा मनाया जाता है जो चावल, गुड़, दही और पानी से भरे मिट्टी के बर्तन ले जाते हैं, नीम के पत्तों, हल्दी और सिंदूर से सजाया जाता है।बर्तन को सिर पर ले जाया जाता है, और महिलाएं ड्रमों की धड़कन पर नृत्य करती हैं, जिससे देवी को प्रसाद होता है।बाद में प्रसाद को लोगों के बीच प्रसाद के रूप में वितरित किया जाता है।बोनलु उत्सव का एक महत्वपूर्ण सामाजिक प्रभाव भी है।त्योहार महिलाओं को एक साथ आने और अपनी नारीत्व का जश्न मनाने का अवसर प्रदान करता है।यह त्योहार लैंगिक समानता को भी बढ़ावा देता है और महिलाओं को सार्वजनिक जीवन में भाग लेने के लिए सशक्त बनाता है।त्योहार ने तेलंगाना की समृद्ध सांस्कृतिक विरासत को संरक्षित करने और बढ़ावा देने में महत्वपूर्ण भूमिका निभाई है।बोनालु महोत्सव तेलंगाना राष्ट्र समिथी (टीआरएस) राजनीतिक पार्टी से भी जुड़ा हुआ है।टीआरएस पार्टी त्योहार को पुनर्जीवित करने और बढ़ावा देने में महत्वपूर्ण भूमिका निभाई है, जिसने निज़ाम युग के दौरान अपना महत्व खो दिया था।टीआरएस पार्टी ने त्योहार का उपयोग लोगों के साथ जुड़ने और इसके राजनीतिक एजेंडे को बढ़ावा देने के लिए एक मंच के रूप में भी किया है।बोनालु उत्सव का तेलंगाना की अर्थव्यवस्था पर भी महत्वपूर्ण प्रभाव पड़ता है।त्योहार स्थानीय उत्पादों के उपयोग को बढ़ावा देता है और स्थानीय कारीगरों और शिल्पकारों को अपनी प्रतिभा का प्रदर्शन करने का अवसर प्रदान करता है।यह त्योहार दुनिया भर के पर्यटकों को भी आकर्षित करता है, जो तेलंगाना की जीवंत संस्कृति का अनुभव करते हैं।तेलंगाना की सरकार ने बोनालु त्योहार के सांस्कृतिक और आर्थिक महत्व को भी मान्यता दी है और त्योहार को बढ़ावा देने और संरक्षित करने के लिए कई कदम उठाए हैं।सरकार ने त्योहार को राज्य समारोह के रूप में घोषित किया है और त्योहार का जश्न मनाने वाले समुदायों को वित्तीय सहायता प्रदान की है।सरकार ने त्योहार के दौरान पर्यटन को बढ़ावा देने के लिए भी कदम उठाए हैं और त्योहार के दौरान तेलंगाना का दौरा करने के लिए दुनिया भर के लोगों को प्रोत्साहित किया है।अंत में, बोनालु त्योहार एक जीवंत और रंगीन त्योहार है जो माँ देवी, महाकली की पूजा का जश्न मनाता है।त्योहार में गहन सांस्कृतिक और धार्मिक महत्व है और स्थानीय उत्पादों के उपयोग को बढ़ावा देता है।त्योहार महिलाओं को एक साथ आने और अपनी नारीत्व का जश्न मनाने और लैंगिक समानता को बढ़ावा देने का अवसर प्रदान करता है।त्योहार का तेलंगाना की अर्थव्यवस्था पर महत्वपूर्ण प्रभाव पड़ता है और तेलंगाना की समृद्ध सांस्कृतिक विरासत को संरक्षित करने और बढ़ावा देने में महत्वपूर्ण भूमिका निभाई है।बोनालु उत्सव सांस्कृतिक विरासत और धार्मिक सद्भाव का प्रतीक है और जीवन के सभी क्षेत्रों के लोगों द्वारा बड़े उत्साह के साथ मनाया जाता है।बोनालु महोत्सव भी लोक संगीत और नृत्य के एक अनूठे मिश्रण की विशेषता है।त्यौहार को महान धूमधाम और भव्यता के साथ मनाया जाता है, और सड़कों को मिट्टी के बर्तनों को ले जाने वाली महिलाओं के रंगीन जुलूसों से भरा जाता है।संगीत आमतौर पर पारंपरिक उपकरणों जैसे कि ढोलक, शहनाई और ताशा द्वारा प्रदान किया जाता है।नृत्य के रूपों में पेरिनी, तपेटा गुलु और कोलातम शामिल हैं।ये नृत्य रूप न केवल मनोरंजक हैं, बल्कि एक महत्वपूर्ण सांस्कृतिक और भी हैं\n",
            "धार्मिक महत्व।बोनालु महोत्सव का एक और अनूठा पहलू घाटम जुलूस की उपस्थिति है।घाटम पारंपरिक रूपांकनों के साथ सजाया गया एक बड़ा मिट्टी का बर्तन है, जिसे पुरुषों के एक समूह द्वारा ले जाया जाता है।घाटम जुलूस आमतौर पर पारंपरिक ड्रमर्स और नर्तकियों के साथ होता है और यह देखने के लिए एक दृष्टि है।माना जाता है कि घाटम को देवी महाकली का प्रतिनिधित्व करने के लिए माना जाता है और यह त्योहार का एक महत्वपूर्ण पहलू है।बोनालु उत्सव तेलंगाना के विभिन्न हिस्सों में भी मनाया जाता है, प्रत्येक अपनी अनूठी परंपराओं और अनुष्ठानों के साथ।यह त्योहार हैदराबाद, सिकंदराबाद और तेलंगाना के अन्य हिस्सों में विभिन्न रूपों में मनाया जाता है।हैदराबाद में त्योहार अपनी भव्यता के लिए जाना जाता है और आमतौर पर हजारों लोगों द्वारा भाग लिया जाता है।सिकंदराबाद में त्योहार अपने अद्वितीय अनुष्ठानों के लिए जाना जाता है, जैसे कि लश्कर बोनलु और उज्जैनी महनकल बोनलु।बोनालु महोत्सव भी लोगों के साथ आने और अपनी सांस्कृतिक विरासत का जश्न मनाने का एक अवसर है।यह त्योहार विभिन्न समुदायों और पृष्ठभूमि के लोगों को एक साथ आने और उनके साझा इतिहास और परंपराओं का जश्न मनाने का अवसर प्रदान करता है।यह त्योहार सांस्कृतिक सद्भाव को बढ़ावा देता है और तेलंगाना के लोगों में एकता को बढ़ावा देता है।बोनलु महोत्सव का भी एक महत्वपूर्ण धार्मिक महत्व है।यह त्योहार माँ देवी, महाकली की पूजा के लिए समर्पित है, जो लोगों को बुरी ताकतों से बचाने के लिए माना जाता है।त्योहार विश्वास की शक्ति और भक्ति के महत्व की याद दिलाता है।त्योहार एक उच्च शक्ति और लोगों को एक साथ आने और दिव्य के आशीर्वाद की तलाश करने की आवश्यकता के विचार को भी बढ़ावा देता है।हाल के वर्षों में, बोनालु महोत्सव भी सामाजिक और राजनीतिक सक्रियता के लिए एक मंच बन गया है।यह त्योहार तेलंगाना की सांस्कृतिक पहचान का प्रतीक है, और कई लोग त्योहार का उपयोग विभिन्न सामाजिक और राजनीतिक मुद्दों पर अपनी राय देने के अवसर के रूप में करते हैं।त्योहार का उपयोग महिलाओं के अधिकारों, जाति भेदभाव और राजनीतिक प्रतिनिधित्व जैसे मुद्दों को उजागर करने के लिए किया गया है।अंत में, बोनालु महोत्सव तेलंगाना की समृद्ध सांस्कृतिक विरासत का उत्सव है।त्योहार एकता, सांस्कृतिक सद्भाव और धार्मिक भक्ति को बढ़ावा देता है।त्योहार को अद्वितीय परंपराओं और अनुष्ठानों की विशेषता है, जैसे कि घाटम जुलूस और विभिन्न नृत्य रूप।त्योहार का एक महत्वपूर्ण सामाजिक और राजनीतिक प्रभाव है और इसका उपयोग सक्रियता के लिए एक मंच के रूप में किया गया है।बोनालु उत्सव विश्वास की शक्ति और हमारी साझा परंपराओं और सांस्कृतिक पहचान को मनाने के लिए एक साथ आने के महत्व की याद दिलाता है।बोनालु त्योहार के मुख्य आकर्षण में से एक स्वादिष्ट भोजन है जो परिवार और दोस्तों के बीच तैयार और साझा किया जाता है।यह त्योहार लोगों के लिए पारंपरिक तेलंगाना व्यंजनों जैसे कि हैदराबादी बिरयानी, मिर्ची बाजजी और डबल का मीता जैसे लोगों के लिए एक अवसर है।भोजन आमतौर पर पारंपरिक अवयवों और खाना पकाने की तकनीकों के साथ तैयार किया जाता है, जिससे यह एक अनूठा स्वाद और सुगंध देता है।बोनालु उत्सव स्थानीय कारीगरों और शिल्पकारों को अपने कौशल और रचनात्मकता का प्रदर्शन करने के लिए एक मंच भी प्रदान करता है।यह त्योहार लोगों के लिए पारंपरिक दस्तकारी वाली वस्तुओं जैसे चूड़ियाँ, गहने और कपड़े खरीदने का एक अवसर है।यह त्योहार इन कारीगरों को ग्राहकों के साथ बातचीत करने और उनकी प्रतिभा दिखाने का अवसर भी प्रदान करता है।बोनालु महोत्सव भी लोगों के लिए अपनी कृतज्ञता व्यक्त करने और अपने बड़ों से आशीर्वाद लेने का एक अवसर है।त्योहार परिवारों के साथ आने और अपने माता -पिता और दादा -दादी के आशीर्वाद की तलाश करने का समय है।लोगों के लिए यह भी एक अवसर है कि वे उपहार और मिठाई की पेशकश करके अपने बुजुर्गों के प्रति अपने प्यार और कृतज्ञता व्यक्त करें।बोनालु उत्सव का क्षेत्र पर भी महत्वपूर्ण आर्थिक प्रभाव है।यह त्योहार बड़ी संख्या में पर्यटकों को आकर्षित करता है, दोनों घरेलू और अंतर्राष्ट्रीय, जो स्थानीय अर्थव्यवस्था में योगदान करते हैं।यह त्योहार त्योहार की तैयारी और संगठन में शामिल लोगों के लिए रोजगार के अवसर प्रदान करता है।\n",
            "बोनालु महोत्सव भी लोगों के लिए अपनी पारंपरिक पोशाक में कपड़े पहनने और अपनी सांस्कृतिक पहचान दिखाने का एक अवसर है।महिलाएं आमतौर पर पारंपरिक साड़ी पहनती हैं, जबकि पुरुष ढोटीस और कुर्ते पहनते हैं।त्योहार लोगों को अपनी सांस्कृतिक विरासत का जश्न मनाने और अपनी परंपराओं में गर्व व्यक्त करने का अवसर प्रदान करता है।बोनालु महोत्सव भी लोगों के लिए धर्मार्थ गतिविधियों में भाग लेने का एक अवसर है।बहुत से लोग त्योहार का उपयोग अपने समुदायों को भोजन, कपड़े और अन्य आवश्यक जरूरतों को जरूरतमंदों को दान करके वापस देने के अवसर के रूप में करते हैं।त्यौहार कम भाग्यशाली के प्रति देने और करुणा की भावना को बढ़ावा देता है।अंत में, बोनालु महोत्सव तेलंगाना की समृद्ध सांस्कृतिक विरासत का उत्सव है।त्योहार एकता, सांस्कृतिक सद्भाव, धार्मिक भक्ति और आर्थिक समृद्धि को बढ़ावा देता है।त्योहार को अद्वितीय परंपराओं, स्वादिष्ट भोजन, स्थानीय शिल्प और आर्थिक लाभों की विशेषता है।यह त्योहार लोगों को अपनी कृतज्ञता व्यक्त करने, पारंपरिक पोशाक में कपड़े पहनने और धर्मार्थ गतिविधियों में भाग लेने का अवसर भी प्रदान करता है।बोनालु उत्सव हमारी सांस्कृतिक पहचान और परंपराओं को संरक्षित करने और मनाने के महत्व की याद दिलाता है।बोनालु महोत्सव न केवल तेलंगाना की सांस्कृतिक विरासत का उत्सव है, बल्कि आध्यात्मिक नवीकरण और भक्ति के लिए भी एक समय है।यह त्योहार देवी महाकली को समर्पित है, जिन्हें ताकत, साहस और ज्ञान का प्रतीक माना जाता है।लोग विशेष प्रार्थना करते हैं और उसके आशीर्वाद और सुरक्षा की तलाश के लिए अनुष्ठान करते हैं।त्योहार लोगों को अपनी आध्यात्मिकता से जुड़ने और अपने विश्वास को नवीनीकृत करने का एक अवसर है।बोनालु महोत्सव भी लोगों के लिए संगीत और नृत्य के माध्यम से अपनी कलात्मक प्रतिभाओं का प्रदर्शन करने का एक अवसर है।त्योहार के दौरान, दपू, कोलातम और पोथराजू जैसे विभिन्न पारंपरिक नृत्य पारंपरिक उपकरणों की धड़कनों के लिए किए जाते हैं।नृत्य देवी के प्रति आनंद, खुशी और भक्ति को व्यक्त करने का एक तरीका है।यह लोगों के लिए अपनी प्रतिभा दिखाने और तेलंगाना के कला रूपों को बढ़ावा देने का भी अवसर है।बोनालु उत्सव तेलंगाना के विभिन्न हिस्सों में अद्वितीय स्थानीय रीति -रिवाजों और परंपराओं के साथ मनाया जाता है।यह त्योहार हैदराबाद, सिकंदराबाद और अन्य प्रमुख शहरों में एक भव्य तरीके से मनाया जाता है, जबकि ग्रामीण क्षेत्रों में, त्योहार अधिक पारंपरिक और सरल तरीके से मनाया जाता है।त्योहार की विविधता तेलंगाना की सांस्कृतिक समृद्धि और विविधता को दर्शाती है।बोनालु उत्सव भी लोगों को एक साथ आने और सामाजिक बंधनों को मजबूत करने का एक अवसर है।त्योहार लोगों को अपनी सामाजिक स्थिति, धर्म या जाति की परवाह किए बिना एक -दूसरे के साथ बातचीत करने और बंधने का अवसर प्रदान करता है।त्योहार सामाजिक सद्भाव और समावेश को बढ़ावा देता है, जो एक स्वस्थ और जीवंत समुदाय के लिए आवश्यक हैं।बोनालु महोत्सव में वर्षों से कई बदलाव और परिवर्तन हुए हैं, लेकिन यह अपने सांस्कृतिक और धार्मिक महत्व को बनाए रखने में कामयाब रहा है।त्योहार समय के साथ विकसित हुआ है, जो लोगों की बदलती जरूरतों और आकांक्षाओं को दर्शाता है।त्योहार ने अपने पारंपरिक रीति -रिवाजों और अनुष्ठानों को संरक्षित करते हुए, आधुनिक रुझानों और प्रौद्योगिकियों के लिए भी अनुकूलित किया है।अंत में, बोनालु महोत्सव तेलंगाना की समृद्ध सांस्कृतिक विरासत, आध्यात्मिक नवीकरण, कलात्मक अभिव्यक्ति, सामाजिक संबंध और अनुकूलनशीलता का उत्सव है।त्योहार तेलंगाना समुदाय के लचीलापन और गतिशीलता को दर्शाते हुए, वर्षों से जीवित रहने और पनपने में कामयाब रहा है।त्योहार हमें हमारी परंपराओं को संरक्षित करने और सांस्कृतिक विविधता और समावेशिता को बढ़ावा देने के महत्व की याद दिलाता है।बोनलु महोत्सव भी लोगों के लिए जल संरक्षण और पर्यावरणीय स्थिरता के महत्व को प्रतिबिंबित करने का एक अवसर है।यह त्योहार मानसून के मौसम के दौरान मनाया जाता है जब नदियों और झीलों को पानी से भर दिया जाता है।त्योहार हमारे जल संसाधनों को संरक्षित करने और हमारे पर्यावरण की रक्षा करने के महत्व की याद दिलाता है।त्योहार भी बढ़ावा देता है\n",
            "त्योहार के पर्यावरणीय प्रभाव को कम करने के लिए पर्यावरण के अनुकूल सामग्री और प्रथाओं का उपयोग।बोनालु महोत्सव एक ऐसा समय है जब लोग अपने पूर्वजों के प्रति आभार दिखाते हैं और उनका आशीर्वाद लेते हैं।यह त्योहार लोगों को अपने पूर्वजों को श्रद्धांजलि देने और अपने परिवार और समाज में उनके योगदान को स्वीकार करने का एक अवसर है।त्योहार सम्मान, विनम्रता और कृतज्ञता के मूल्यों को भी बढ़ावा देता है, जो एक सामंजस्यपूर्ण और शांतिपूर्ण समुदाय के लिए आवश्यक हैं।बोनालु महोत्सव भी लोगों के लिए तेलंगाना के इतिहास और संस्कृति के बारे में जानने का एक अवसर है।त्योहार लोगों को तेलंगाना के रीति -रिवाजों, परंपराओं और लोककथाओं के बारे में जानने का अवसर प्रदान करता है।यह लोगों के लिए युवा पीढ़ी को अपने ज्ञान और ज्ञान को पारित करने का एक अवसर है, जो भविष्य की पीढ़ियों के लिए उनकी सांस्कृतिक विरासत के संरक्षण को सुनिश्चित करता है।बोनालु महोत्सव भी स्वयंसेवी और सामुदायिक सेवा की भावना को बढ़ावा देता है।त्योहार में कई स्वयंसेवकों की भागीदारी शामिल है जो त्योहार को व्यवस्थित करने और प्रबंधित करने के लिए अथक प्रयास करते हैं।त्योहार लोगों को अपने समय और संसाधनों को स्वेच्छा से अपने समुदाय में योगदान करने का अवसर प्रदान करता है।त्योहार निस्वार्थता, उदारता और सेवा के मूल्यों को भी बढ़ावा देता है, जो एक मजबूत और जीवंत समुदाय के निर्माण के लिए आवश्यक हैं।बोनालु महोत्सव लोगों के लिए अपनी पहचान मनाने और सांस्कृतिक एकता को बढ़ावा देने का एक अवसर है।यह त्योहार तेलंगाना के विभिन्न हिस्सों के लोगों को एक साथ लाता है और अपनेपन और सांस्कृतिक गौरव की भावना को बढ़ावा देता है।यह त्योहार सांस्कृतिक आदान -प्रदान और समझ को भी बढ़ावा देता है, जो एक शांतिपूर्ण और सामंजस्यपूर्ण समाज के निर्माण के लिए आवश्यक हैं।अंत में, बोनालु महोत्सव तेलंगाना के समृद्ध इतिहास, संस्कृति, आध्यात्मिकता, पर्यावरणीय स्थिरता, सामुदायिक सेवा और सांस्कृतिक एकता का उत्सव है।त्योहार सम्मान, कृतज्ञता, निस्वार्थता और सेवा के मूल्यों को बढ़ावा देता है, जो एक स्वस्थ और जीवंत समुदाय के निर्माण के लिए आवश्यक हैं।त्योहार लोगों को अपनी सांस्कृतिक पहचान का जश्न मनाने, उनकी आध्यात्मिकता से जुड़ने, उनके इतिहास और परंपराओं के बारे में सीखने और सामाजिक सद्भाव और समावेश को बढ़ावा देने का एक अवसर है।बोनालु महोत्सव भी लोगों के लिए अपने पाक कौशल का प्रदर्शन करने और पारंपरिक व्यंजनों में लिप्त होने का एक अवसर है।यह त्योहार भोजन के लिए एक दावत है, जिसमें कई प्रकार के मुंह से पानी के व्यंजन जैसे कि मुदा पप्पू, पची पुलुसु, और बोनाम, अन्य लोगों के साथ हैं।यह त्योहार पीढ़ियों के माध्यम से सौंपे गए पारंपरिक व्यंजनों को संरक्षित करते हुए लोगों को नए स्वादों और तकनीकों के साथ प्रयोग करने का अवसर प्रदान करता है।बोनालु उत्सव क्षेत्र के हथकरघा और हस्तकला उत्पादों को दिखाने के लिए एक मंच भी है।यह त्यौहार स्थानीय कारीगरों को अपने दस्तकारी उत्पादों जैसे बिदरीवेयर, निर्मल पेंटिंग और गडवाल साड़ी, अन्य लोगों के साथ प्रदर्शित करने और बेचने के लिए एक मंच प्रदान करता है।त्योहार क्षेत्रीय अर्थव्यवस्था को बढ़ावा देता है और स्थानीय कारीगरों की आजीविका का समर्थन करता है।बोनालु उत्सव लोगों के लिए स्त्रीत्व और महिला सशक्तिकरण का जश्न मनाने का एक अवसर है।त्योहार देवी के स्त्री रूप की पूजा के लिए समर्पित है, जो शक्ति, अनुग्रह और ज्ञान का प्रतीक है।त्योहार महिलाओं को एक साथ आने और अपनी ताकत और लचीलापन मनाने का अवसर प्रदान करता है।यह त्योहार लैंगिक समानता और महिला सशक्तिकरण के मूल्यों को भी बढ़ावा देता है, जो एक न्यायसंगत और न्यायसंगत समाज के निर्माण के लिए आवश्यक हैं।बोनालु महोत्सव भी लोगों के लिए अपनी पारंपरिक पोशाक और गहने दिखाने का एक अवसर है।यह त्यौहार लोगों को अपने पारंपरिक पोशाक जैसे पोचैम्पली सरीस, पटोला सरिस और गडवाल सरिस जैसे अन्य लोगों के लिए तैयार करने का अवसर प्रदान करता है।यह त्यौहार लोगों को अपने पारंपरिक गहनों जैसे कि पची नेकलेस, कासु माला, और ओडियानम जैसे अन्य लोगों के साथ एक अवसर प्रदान करता है।त्योहार इस क्षेत्र के अद्वितीय फैशन और शैली को बढ़ावा देता है।बोनलु\n",
            "त्योहार लोगों को अपनी रचनात्मकता और नवाचार को व्यक्त करने का एक अवसर है।यह त्योहार लोगों को त्योहार का जश्न मनाने के लिए नए और अभिनव तरीकों के साथ आने का अवसर प्रदान करता है, जैसे कि विस्तृत पंडाल बनाना और सजावट के लिए नवीन सामग्रियों का उपयोग करना।यह त्योहार रचनात्मकता, नवाचार और उद्यमशीलता के मूल्यों को भी बढ़ावा देता है, जो एक जीवंत और गतिशील समुदाय के निर्माण के लिए आवश्यक हैं।अंत में, बोनालु उत्सव तेलंगाना की समृद्ध संस्कृति, पाक परंपराओं, हथकरघा और हस्तकला उत्पादों, महिला सशक्तिकरण, पारंपरिक पोशाक और गहने, और रचनात्मकता और नवाचार का उत्सव है।त्योहार क्षेत्रीय गौरव, सांस्कृतिक विविधता और रचनात्मकता के मूल्यों को बढ़ावा देता है, जो एक जीवंत और गतिशील समुदाय के निर्माण के लिए आवश्यक हैं।यह त्योहार लोगों को एक साथ आने, अपनी सांस्कृतिक पहचान का जश्न मनाने, अपनी प्रतिभा दिखाने और सामाजिक सद्भाव और समावेश को बढ़ावा देने का अवसर प्रदान करता है।बोनालु महोत्सव भी लोगों के लिए सांस्कृतिक कार्यक्रमों और प्रदर्शनों में भाग लेने का एक अवसर है।त्योहार को पारंपरिक नृत्य रूपों जैसे दप्पू डांस और पोथराजू नृत्य के प्रदर्शन से चिह्नित किया गया है।यह त्योहार स्थानीय कलाकारों को अपनी प्रतिभा और रचनात्मकता का प्रदर्शन करने के लिए एक मंच प्रदान करता है, और यह पारंपरिक कला रूपों के संरक्षण को बढ़ावा देता है।बोनालु उत्सव लोगों को अपनी जड़ों और विरासत के साथ फिर से जुड़ने का एक अवसर है।यह त्योहार लोगों को त्योहार की अपनी बचपन की यादों को फिर से देखने का अवसर प्रदान करता है, और त्योहार से जुड़ी परंपराओं और मूल्यों को युवा पीढ़ियों के लिए पारित करता है।त्योहार अतीत और वर्तमान के बीच के बंधन को मजबूत करता है, और यह सांस्कृतिक परंपराओं की निरंतरता को बढ़ावा देता है।बोनालु महोत्सव भी लोगों के लिए अपने विश्वास और आध्यात्मिकता को नवीनीकृत करने का एक अवसर है।त्योहार को देवी महनकलि की पूजा से चिह्नित किया गया है, जो माना जाता है कि वह अपने भक्तों की रक्षा और आशीर्वाद देता है।त्योहार लोगों को देवी के आशीर्वाद की तलाश करने और धार्मिकता, सत्यता और करुणा के मूल्यों के लिए अपनी प्रतिबद्धता को नवीनीकृत करने का अवसर प्रदान करता है।बोनालु महोत्सव लोगों के लिए अपनी कृतज्ञता और उदारता व्यक्त करने का एक अवसर है।त्योहार को बोनाम और बंगराम जैसे प्रसाद के वितरण द्वारा चिह्नित किया गया है, जो माना जाता है कि देवी को खुश करने और समुदाय के लिए समृद्धि और प्रचुरता लाने के लिए माना जाता है।यह त्योहार लोगों को धर्मार्थ कारणों को दान करने और समुदाय के कम भाग्यशाली सदस्यों का समर्थन करने का अवसर भी प्रदान करता है।बोनालु उत्सव लोगों के लिए समुदाय की विविधता और समावेशिता का जश्न मनाने का एक अवसर है।यह त्योहार विभिन्न जातियों, धर्मों और समुदायों के लोगों को एक साथ लाता है, और यह सामाजिक सद्भाव और एकता के मूल्यों को बढ़ावा देता है।त्योहार लोगों को अपनी सामान्यताओं का जश्न मनाने और उनके मतभेदों की सराहना करने का अवसर प्रदान करता है।अंत में, बोनालु उत्सव तेलंगाना की समृद्ध सांस्कृतिक विरासत, आध्यात्मिकता, उदारता, विविधता और समावेश का उत्सव है।त्योहार सांस्कृतिक निरंतरता, सामाजिक सद्भाव और आध्यात्मिक नवीकरण के मूल्यों को बढ़ावा देता है, जो एक लचीला और सामंजस्यपूर्ण समुदाय के निर्माण के लिए आवश्यक हैं।त्योहार लोगों को एक साथ आने, अपनी कृतज्ञता व्यक्त करने, अपने विश्वास को नवीनीकृत करने और सामाजिक न्याय और समावेश को बढ़ावा देने के साथ -साथ अपनी सांस्कृतिक पहचान का जश्न मनाने का अवसर प्रदान करता है।बोनालु उत्सव के अनूठे पहलुओं में से एक विभिन्न अनुष्ठानों और समारोहों में महिलाओं की भागीदारी है।महिलाएं त्योहार में एक महत्वपूर्ण भूमिका निभाती हैं क्योंकि उन्हें देवी महनकलि का अवतार माना जाता है।वे बोनम प्रदान करते हैं और विभिन्न पारंपरिक नृत्य और अनुष्ठान करते हैं, जिससे उनकी ताकत और लचीलापन दिखाई देता है।यह त्योहार महिलाओं को एक साथ आने, अपनी संस्कृति का जश्न मनाने और अपनी प्रतिभा दिखाने के लिए एक मंच प्रदान करता है।बोनालु उत्सव का आर्थिक महत्व भी है क्योंकि यह स्थानीय को बढ़ावा देता है\n",
            "अर्थव्यवस्था।यह त्योहार देश के विभिन्न हिस्सों से पर्यटकों को आकर्षित करता है, जिससे पर्यटन और आतिथ्य उद्योगों को बढ़ावा मिलता है।यह स्थानीय कारीगरों, विक्रेताओं और कलाकारों को रोजगार के अवसर प्रदान करता है, जिससे स्थानीय अर्थव्यवस्था में योगदान होता है।त्योहार आय उत्पन्न करता है और छोटे व्यवसायों के विकास में मदद करता है।बोनालु महोत्सव भोजन और पाक परंपराओं का उत्सव है।त्योहार को विभिन्न पारंपरिक व्यंजनों की तैयारी और वितरण द्वारा चिह्नित किया गया है, जैसे कि पुलीहोरा, दादजानम और वड़ा।त्योहार लोगों को अपने पाक कौशल का प्रदर्शन करने और देवी को अपने विशेष व्यंजन प्रदान करने का अवसर प्रदान करता है।यह लोगों को भोजन पर बंधने और तेलंगाना की पाक परंपराओं की विविधता का जश्न मनाने का अवसर भी प्रदान करता है।बोनलु उत्सव का पर्यावरणीय महत्व भी है क्योंकि यह पर्यावरण-मित्रता और स्थिरता को बढ़ावा देता है।त्योहार को मिट्टी के बर्तन के उपयोग से चिह्नित किया जाता है, जिन्हें पर्यावरण के अनुकूल और बायोडिग्रेडेबल माना जाता है।प्लास्टिक या अन्य गैर-बायोडिग्रेडेबल सामग्रियों के बजाय मिट्टी के बर्तन का उपयोग अपशिष्ट को कम करने और स्थिरता को बढ़ावा देने में मदद करता है।त्योहार प्राकृतिक रंगों और रंगों के उपयोग को भी बढ़ावा देता है, जिससे पर्यावरण-मित्रता को बढ़ावा मिलता है।बोनालु उत्सव लोगों के लिए सार्वजनिक स्वास्थ्य और सुरक्षा के महत्व को प्रतिबिंबित करने का एक अवसर है।त्योहार को COVID-19 प्रोटोकॉल के पालन से चिह्नित किया गया है, जैसे कि सामाजिक गड़बड़ी, मास्क पहनना और हाथों को सैनिटाइज़ करना।यह त्योहार लोगों को सार्वजनिक स्वास्थ्य और सुरक्षा के लिए अपनी प्रतिबद्धता का प्रदर्शन करने और खुद को और अपने समुदायों को महामारी से बचाने का अवसर प्रदान करता है।अंत में, बोनालु महोत्सव तेलंगाना की संस्कृति, आध्यात्मिकता, आर्थिक विकास, पाक परंपराओं, पर्यावरणीय स्थिरता और सार्वजनिक स्वास्थ्य और सुरक्षा का उत्सव है।त्योहार महिलाओं की भागीदारी को बढ़ावा देता है, स्थानीय अर्थव्यवस्था का समर्थन करता है, पाक परंपराओं को दिखाता है, पर्यावरण-मित्रता को बढ़ावा देता है, और सार्वजनिक स्वास्थ्य और सुरक्षा के लिए प्रतिबद्धता को प्रदर्शित करता है।त्योहार लोगों को एक साथ आने, अपनी संस्कृति का जश्न मनाने और उनके मूल्यों और परंपराओं के प्रति उनकी प्रतिबद्धता को नवीनीकृत करने का एक अवसर है।बोनालु त्योहार के मुख्य आकर्षण में से एक रंगीन और जीवंत जुलूस हैं जो पूरे शहर में आयोजित किए जाते हैं।इन जुलूसों में संगीत, नृत्य और भक्तों की उत्साही भागीदारी के साथ देवी महनकलि की खूबसूरती से सजाया गया रथ और मूर्तियां हैं।जुलूस एक दृश्य तमाशा और देवी के प्रति लोगों की भक्ति और उत्साह की अभिव्यक्ति हैं।बोनालु उत्सव भी लोगों को अपनी जड़ों और विरासत के साथ फिर से जुड़ने का अवसर प्रदान करता है।यह त्योहार तेलंगाना की सांस्कृतिक परंपराओं में गहराई से निहित है, और यह लोगों को उनकी अनूठी पहचान और सांस्कृतिक विरासत का जश्न मनाने के लिए एक मंच प्रदान करता है।यह क्षेत्र की समृद्ध सांस्कृतिक परंपराओं को संरक्षित और बढ़ावा देने और उन्हें आने वाली पीढ़ियों तक पारित करने में भी मदद करता है।बोनलु के त्योहार को विभिन्न सांस्कृतिक कार्यक्रमों और प्रतियोगिताओं द्वारा भी चिह्नित किया गया है, जैसे कि रंगोली प्रतियोगिताओं, पारंपरिक नृत्य प्रदर्शन और लोक संगीत पुनरावर्ती।ये कार्यक्रम कलाकारों, संगीतकारों और कलाकारों को अपनी प्रतिभा और रचनात्मकता का प्रदर्शन करने के लिए एक मंच प्रदान करते हैं।वे तेलंगाना की सांस्कृतिक विरासत को बढ़ावा देने और संरक्षित करने के साधन के रूप में भी काम करते हैं।बोनालु उत्सव क्षमा, करुणा और आध्यात्मिक नवीकरण का समय है।यह माना जाता है कि देवी महनली त्योहार के दौरान अपने भक्तों के पापों और कमियों को माफ कर देती हैं।लोग विभिन्न अनुष्ठानों का प्रदर्शन करके और प्रार्थनाओं की पेशकश करके उसके आशीर्वाद और क्षमा चाहते हैं।यह त्योहार लोगों को अपने जीवन को प्रतिबिंबित करने, आध्यात्मिक मार्गदर्शन की तलाश करने और उनके विश्वास के प्रति उनकी प्रतिबद्धता को नवीनीकृत करने का अवसर भी प्रदान करता है।बोनालु महोत्सव भी दान और सामाजिक सेवा के लिए एक समय है।भक्त विभिन्न सामाजिक कारणों, जैसे शिक्षा, स्वास्थ्य सेवा और राहत प्रयासों को दान और समर्थन प्रदान करते हैं।त्योहार एक अवसर प्रदान करता है\n",
            "लोगों के लिए अपने समुदायों में योगदान करने और दूसरों के जीवन पर सकारात्मक प्रभाव डालने के लिए।अंत में, बोनालु महोत्सव तेलंगाना की समृद्ध सांस्कृतिक विरासत, कलात्मक प्रतिभा और आध्यात्मिक मूल्यों का उत्सव है।इसमें रंगीन जुलूस, सांस्कृतिक कार्यक्रम और आध्यात्मिक अनुष्ठान हैं जो लोगों को एक साथ लाते हैं और एकता, करुणा और क्षमा को बढ़ावा देते हैं।त्योहार लोगों को अपने समुदायों को वापस देने और अधिक से अधिक अच्छे में योगदान देने का अवसर भी प्रदान करता है।बोनालु महोत्सव भी पाक प्रसन्नता और दावत के लिए एक समय है।त्योहार मानसून के मौसम की शुरुआत को चिह्नित करता है, और यह माना जाता है कि देवी महनली फसलों और फसल को आशीर्वाद देती हैं।नतीजतन, त्योहार विभिन्न प्रकार के मौसमी व्यंजनों और व्यंजनों से जुड़ा हुआ है, जैसे कि पुलीहोरा, वड़ा और गारेलु।इन पारंपरिक व्यंजनों को बहुत सावधानी से तैयार किया जाता है और परिवार और दोस्तों के बीच साझा किया जाता है, जो कि रिश्तेदारी और समुदाय के बंधन को मजबूत करता है।बोनालु महोत्सव भी लोगों के लिए अपनी माताओं के प्रति अपनी कृतज्ञता और प्रशंसा व्यक्त करने का एक अवसर है।यह त्योहार देवी महनली को समर्पित है, जिसे सभी जीवित प्राणियों की माँ माना जाता है।यह माना जाता है कि वह एक माँ की तरह अपने भक्तों की रक्षा और पोषण करती है, और त्योहार दिव्य मां के रूप में अपनी भूमिका को सम्मानित करने और स्वीकार करने का एक तरीका है।समारोहों के हिस्से के रूप में, लोग प्रार्थना करते हैं और अपने जीवन में अपनी माताओं और अन्य मातृ आंकड़ों के लिए आशीर्वाद लेते हैं।बोनलु त्योहार पर्यावरणीय स्थिरता और संरक्षण के महत्व की याद दिलाता है।त्योहार में बहुत सारे प्राकृतिक संसाधनों का उपयोग शामिल है, जैसे कि फूल, पत्तियां और फल, और यह सुनिश्चित करना महत्वपूर्ण है कि इन संसाधनों का उपयोग जिम्मेदार और टिकाऊ तरीके से किया जाता है।समारोहों के हिस्से के रूप में, पर्यावरण के अनुकूल प्रथाओं को बढ़ावा देने के प्रयास हैं, जैसे कि बायोडिग्रेडेबल सामग्री का उपयोग और पेड़ों और पौधों के रोपण।बोनालु महोत्सव भी सांस्कृतिक आदान -प्रदान और इंटरफेथ सद्भाव के लिए एक समय है।यह त्योहार तेलंगाना में सभी धर्मों और समुदायों के लोगों द्वारा मनाया जाता है, और यह लोगों को एक साथ आने और अपनी साझा सांस्कृतिक विरासत का जश्न मनाने का अवसर प्रदान करता है।त्योहार को समावेशिता और सहिष्णुता की भावना द्वारा चिह्नित किया गया है, और यह एक विविध समाज में एकता और सद्भाव के महत्व की याद दिलाता है।बोनालु उत्सव मानव आत्मा, लचीलापन और दृढ़ता का उत्सव है।त्योहार को कई चुनौतियों और बाधाओं के बावजूद सदियों से मनाया जाता है, और यह तेलंगाना के लोगों की ताकत और लचीलापन के लिए एक गवाही के रूप में कार्य करता है।त्योहार जीवन, आशा और विश्वास का उत्सव है, और यह लोगों को साहस और दृढ़ संकल्प के साथ उनकी कठिनाइयों और चुनौतियों को दूर करने के लिए प्रेरित करता है।अंत में, बोनालु उत्सव समृद्ध सांस्कृतिक विरासत, आध्यात्मिक मूल्यों और तेलंगाना के सामाजिक लोकाचार का एक बहुआयामी उत्सव है।त्योहार में कई तरह की गतिविधियाँ हैं, जैसे कि जुलूस, सांस्कृतिक कार्यक्रम, अनुष्ठान, दावत और सामाजिक सेवा, और यह लोगों को खुशी, एकता और सद्भाव की भावना में एक साथ लाता है।त्योहार जीवन, प्रेम और मानवता का उत्सव है, और यह सभी उम्र और पृष्ठभूमि के लोगों के लिए प्रेरणा और नवीकरण के स्रोत के रूप में कार्य करता है।\n",
            "\n"
          ]
        }
      ]
    },
    {
      "cell_type": "code",
      "source": [
        "from googletrans import Translator\n",
        "\n",
        "def translate_file(file_path, src_lang=\"en\", tgt_lang=\"hi\"):\n",
        "    translator = Translator()\n",
        "\n",
        "    # Read file contents\n",
        "    with open(file_path, 'r') as f:\n",
        "        lines = f.readlines()\n",
        "\n",
        "    translated_lines = []\n",
        "    try:\n",
        "        # Translate the lines\n",
        "        for line in lines:\n",
        "            translated_line = translator.translate(line, src=src_lang, dest=tgt_lang).text\n",
        "            translated_lines.append(translated_line)\n",
        "\n",
        "    except Exception as e:\n",
        "        print(\"Translation error:\", str(e))\n",
        "        return None\n",
        "\n",
        "    # Join the translated lines\n",
        "    translated_text = \"\\n\".join(translated_lines)\n",
        "    return translated_text\n",
        "\n",
        "def save_to_file(file_path, content):\n",
        "    with open(file_path, 'w') as f:\n",
        "        f.write(content)\n",
        "\n",
        "if __name__ == \"__main__\":\n",
        "    input_file_path = \"/content/bonalufestival.txt\"\n",
        "    output_file_path = \"/content/translated_file.txt\"\n",
        "    \n",
        "    translated_text = translate_file(input_file_path)\n",
        "    \n",
        "    if translated_text is not None:\n",
        "        save_to_file(output_file_path, translated_text)\n",
        "        print(f\"Translated text saved to: {output_file_path}\")\n",
        "        print(f\"Translated text:\\n{translated_text}\")\n",
        "    else:\n",
        "        print(\"Translation failed. Please check the error message.\")\n"
      ],
      "metadata": {
        "colab": {
          "base_uri": "https://localhost:8080/"
        },
        "id": "J0RHEf3TUifv",
        "outputId": "841d95cf-922a-491c-e18a-c87384b24f94"
      },
      "execution_count": 15,
      "outputs": [
        {
          "output_type": "stream",
          "name": "stdout",
          "text": [
            "Translation error: list index out of range\n",
            "Translation failed. Please check the error message.\n"
          ]
        }
      ]
    },
    {
      "cell_type": "code",
      "source": [],
      "metadata": {
        "id": "6Rx7rRAVXg9k"
      },
      "execution_count": null,
      "outputs": []
    }
  ]
}